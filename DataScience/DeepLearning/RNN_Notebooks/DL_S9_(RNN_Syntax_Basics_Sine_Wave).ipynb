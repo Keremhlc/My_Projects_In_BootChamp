{
 "cells": [
  {
   "cell_type": "markdown",
   "metadata": {
    "id": "Y0kpu-1Xd8KM"
   },
   "source": [
    "___\n",
    "\n",
    "<p style=\"text-align: center;\"><img src=\"https://docs.google.com/uc?id=1lY0Uj5R04yMY3-ZppPWxqCr5pvBLYPnV\" class=\"img-fluid\" alt=\"CLRSWY\"></p>\n",
    "\n",
    "___"
   ]
  },
  {
   "cell_type": "markdown",
   "metadata": {
    "id": "XOxj4ZqOd8KO"
   },
   "source": [
    "<h1 style=\"text-align: center;\">Deep Learning<br><br>Session - 9<br><br>RNN Syntax Basics<br><br>Sine Wave<br><h1>"
   ]
  },
  {
   "cell_type": "markdown",
   "metadata": {
    "id": "3He0RuJld8KO"
   },
   "source": [
    "# RNN Syntax Basics"
   ]
  },
  {
   "cell_type": "code",
   "execution_count": 1,
   "metadata": {
    "id": "Q0Y20sV9d8KP"
   },
   "outputs": [],
   "source": [
    "import numpy as np\n",
    "import pandas as pd\n",
    "import matplotlib.pyplot as plt\n",
    "import seaborn as sns\n",
    "\n",
    "import warnings\n",
    "warnings.filterwarnings(\"ignore\")\n",
    "warnings.warn(\"this will not show\")\n",
    "\n",
    "plt.rcParams[\"figure.figsize\"] = (10,6)\n",
    "\n",
    "sns.set_style(\"whitegrid\")\n",
    "pd.set_option('display.float_format', lambda x: '%.3f' % x)\n",
    "\n",
    "# Set it None to display all rows in the dataframe\n",
    "# pd.set_option('display.max_rows', None)\n",
    "\n",
    "# Set it to None to display all columns in the dataframe\n",
    "pd.set_option('display.max_columns', None)"
   ]
  },
  {
   "cell_type": "markdown",
   "metadata": {
    "id": "usCd_ajPd8KQ"
   },
   "source": [
    "## Creating Data"
   ]
  },
  {
   "cell_type": "markdown",
   "metadata": {
    "id": "GvopK0YUd8KQ"
   },
   "source": [
    "Datamizi (sequence'i) kendimiz olusturacagiz. __linspace__ ile 0 ile 50 arasinda 501 sayi belirledik. Bu noktalarin sin degerlerini aldik ve bu degerleri de y' ye atadik. "
   ]
  },
  {
   "cell_type": "code",
   "execution_count": 2,
   "metadata": {
    "id": "DLnS1XTYd8KQ"
   },
   "outputs": [],
   "source": [
    "x = np.linspace(0,50,501)\n",
    "y = np.sin(x)"
   ]
  },
  {
   "cell_type": "code",
   "execution_count": 3,
   "metadata": {
    "colab": {
     "base_uri": "https://localhost:8080/"
    },
    "id": "3L4xYadbd8KQ",
    "outputId": "72328fff-0b08-4628-84bd-e6940716d92c",
    "scrolled": true
   },
   "outputs": [
    {
     "data": {
      "text/plain": [
       "array([ 0. ,  0.1,  0.2,  0.3,  0.4,  0.5,  0.6,  0.7,  0.8,  0.9,  1. ,\n",
       "        1.1,  1.2,  1.3,  1.4,  1.5,  1.6,  1.7,  1.8,  1.9,  2. ,  2.1,\n",
       "        2.2,  2.3,  2.4,  2.5,  2.6,  2.7,  2.8,  2.9,  3. ,  3.1,  3.2,\n",
       "        3.3,  3.4,  3.5,  3.6,  3.7,  3.8,  3.9,  4. ,  4.1,  4.2,  4.3,\n",
       "        4.4,  4.5,  4.6,  4.7,  4.8,  4.9,  5. ,  5.1,  5.2,  5.3,  5.4,\n",
       "        5.5,  5.6,  5.7,  5.8,  5.9,  6. ,  6.1,  6.2,  6.3,  6.4,  6.5,\n",
       "        6.6,  6.7,  6.8,  6.9,  7. ,  7.1,  7.2,  7.3,  7.4,  7.5,  7.6,\n",
       "        7.7,  7.8,  7.9,  8. ,  8.1,  8.2,  8.3,  8.4,  8.5,  8.6,  8.7,\n",
       "        8.8,  8.9,  9. ,  9.1,  9.2,  9.3,  9.4,  9.5,  9.6,  9.7,  9.8,\n",
       "        9.9, 10. , 10.1, 10.2, 10.3, 10.4, 10.5, 10.6, 10.7, 10.8, 10.9,\n",
       "       11. , 11.1, 11.2, 11.3, 11.4, 11.5, 11.6, 11.7, 11.8, 11.9, 12. ,\n",
       "       12.1, 12.2, 12.3, 12.4, 12.5, 12.6, 12.7, 12.8, 12.9, 13. , 13.1,\n",
       "       13.2, 13.3, 13.4, 13.5, 13.6, 13.7, 13.8, 13.9, 14. , 14.1, 14.2,\n",
       "       14.3, 14.4, 14.5, 14.6, 14.7, 14.8, 14.9, 15. , 15.1, 15.2, 15.3,\n",
       "       15.4, 15.5, 15.6, 15.7, 15.8, 15.9, 16. , 16.1, 16.2, 16.3, 16.4,\n",
       "       16.5, 16.6, 16.7, 16.8, 16.9, 17. , 17.1, 17.2, 17.3, 17.4, 17.5,\n",
       "       17.6, 17.7, 17.8, 17.9, 18. , 18.1, 18.2, 18.3, 18.4, 18.5, 18.6,\n",
       "       18.7, 18.8, 18.9, 19. , 19.1, 19.2, 19.3, 19.4, 19.5, 19.6, 19.7,\n",
       "       19.8, 19.9, 20. , 20.1, 20.2, 20.3, 20.4, 20.5, 20.6, 20.7, 20.8,\n",
       "       20.9, 21. , 21.1, 21.2, 21.3, 21.4, 21.5, 21.6, 21.7, 21.8, 21.9,\n",
       "       22. , 22.1, 22.2, 22.3, 22.4, 22.5, 22.6, 22.7, 22.8, 22.9, 23. ,\n",
       "       23.1, 23.2, 23.3, 23.4, 23.5, 23.6, 23.7, 23.8, 23.9, 24. , 24.1,\n",
       "       24.2, 24.3, 24.4, 24.5, 24.6, 24.7, 24.8, 24.9, 25. , 25.1, 25.2,\n",
       "       25.3, 25.4, 25.5, 25.6, 25.7, 25.8, 25.9, 26. , 26.1, 26.2, 26.3,\n",
       "       26.4, 26.5, 26.6, 26.7, 26.8, 26.9, 27. , 27.1, 27.2, 27.3, 27.4,\n",
       "       27.5, 27.6, 27.7, 27.8, 27.9, 28. , 28.1, 28.2, 28.3, 28.4, 28.5,\n",
       "       28.6, 28.7, 28.8, 28.9, 29. , 29.1, 29.2, 29.3, 29.4, 29.5, 29.6,\n",
       "       29.7, 29.8, 29.9, 30. , 30.1, 30.2, 30.3, 30.4, 30.5, 30.6, 30.7,\n",
       "       30.8, 30.9, 31. , 31.1, 31.2, 31.3, 31.4, 31.5, 31.6, 31.7, 31.8,\n",
       "       31.9, 32. , 32.1, 32.2, 32.3, 32.4, 32.5, 32.6, 32.7, 32.8, 32.9,\n",
       "       33. , 33.1, 33.2, 33.3, 33.4, 33.5, 33.6, 33.7, 33.8, 33.9, 34. ,\n",
       "       34.1, 34.2, 34.3, 34.4, 34.5, 34.6, 34.7, 34.8, 34.9, 35. , 35.1,\n",
       "       35.2, 35.3, 35.4, 35.5, 35.6, 35.7, 35.8, 35.9, 36. , 36.1, 36.2,\n",
       "       36.3, 36.4, 36.5, 36.6, 36.7, 36.8, 36.9, 37. , 37.1, 37.2, 37.3,\n",
       "       37.4, 37.5, 37.6, 37.7, 37.8, 37.9, 38. , 38.1, 38.2, 38.3, 38.4,\n",
       "       38.5, 38.6, 38.7, 38.8, 38.9, 39. , 39.1, 39.2, 39.3, 39.4, 39.5,\n",
       "       39.6, 39.7, 39.8, 39.9, 40. , 40.1, 40.2, 40.3, 40.4, 40.5, 40.6,\n",
       "       40.7, 40.8, 40.9, 41. , 41.1, 41.2, 41.3, 41.4, 41.5, 41.6, 41.7,\n",
       "       41.8, 41.9, 42. , 42.1, 42.2, 42.3, 42.4, 42.5, 42.6, 42.7, 42.8,\n",
       "       42.9, 43. , 43.1, 43.2, 43.3, 43.4, 43.5, 43.6, 43.7, 43.8, 43.9,\n",
       "       44. , 44.1, 44.2, 44.3, 44.4, 44.5, 44.6, 44.7, 44.8, 44.9, 45. ,\n",
       "       45.1, 45.2, 45.3, 45.4, 45.5, 45.6, 45.7, 45.8, 45.9, 46. , 46.1,\n",
       "       46.2, 46.3, 46.4, 46.5, 46.6, 46.7, 46.8, 46.9, 47. , 47.1, 47.2,\n",
       "       47.3, 47.4, 47.5, 47.6, 47.7, 47.8, 47.9, 48. , 48.1, 48.2, 48.3,\n",
       "       48.4, 48.5, 48.6, 48.7, 48.8, 48.9, 49. , 49.1, 49.2, 49.3, 49.4,\n",
       "       49.5, 49.6, 49.7, 49.8, 49.9, 50. ])"
      ]
     },
     "execution_count": 3,
     "metadata": {},
     "output_type": "execute_result"
    }
   ],
   "source": [
    "x"
   ]
  },
  {
   "cell_type": "code",
   "execution_count": 4,
   "metadata": {
    "colab": {
     "base_uri": "https://localhost:8080/"
    },
    "id": "7K_U-UdBd8KR",
    "outputId": "012793a6-95d5-475e-a01e-2d641675e01e"
   },
   "outputs": [
    {
     "data": {
      "text/plain": [
       "array([ 0.00000000e+00,  9.98334166e-02,  1.98669331e-01,  2.95520207e-01,\n",
       "        3.89418342e-01,  4.79425539e-01,  5.64642473e-01,  6.44217687e-01,\n",
       "        7.17356091e-01,  7.83326910e-01,  8.41470985e-01,  8.91207360e-01,\n",
       "        9.32039086e-01,  9.63558185e-01,  9.85449730e-01,  9.97494987e-01,\n",
       "        9.99573603e-01,  9.91664810e-01,  9.73847631e-01,  9.46300088e-01,\n",
       "        9.09297427e-01,  8.63209367e-01,  8.08496404e-01,  7.45705212e-01,\n",
       "        6.75463181e-01,  5.98472144e-01,  5.15501372e-01,  4.27379880e-01,\n",
       "        3.34988150e-01,  2.39249329e-01,  1.41120008e-01,  4.15806624e-02,\n",
       "       -5.83741434e-02, -1.57745694e-01, -2.55541102e-01, -3.50783228e-01,\n",
       "       -4.42520443e-01, -5.29836141e-01, -6.11857891e-01, -6.87766159e-01,\n",
       "       -7.56802495e-01, -8.18277111e-01, -8.71575772e-01, -9.16165937e-01,\n",
       "       -9.51602074e-01, -9.77530118e-01, -9.93691004e-01, -9.99923258e-01,\n",
       "       -9.96164609e-01, -9.82452613e-01, -9.58924275e-01, -9.25814682e-01,\n",
       "       -8.83454656e-01, -8.32267442e-01, -7.72764488e-01, -7.05540326e-01,\n",
       "       -6.31266638e-01, -5.50685543e-01, -4.64602179e-01, -3.73876665e-01,\n",
       "       -2.79415498e-01, -1.82162504e-01, -8.30894028e-02,  1.68139005e-02,\n",
       "        1.16549205e-01,  2.15119988e-01,  3.11541364e-01,  4.04849921e-01,\n",
       "        4.94113351e-01,  5.78439764e-01,  6.56986599e-01,  7.28969040e-01,\n",
       "        7.93667864e-01,  8.50436621e-01,  8.98708096e-01,  9.37999977e-01,\n",
       "        9.67919672e-01,  9.88168234e-01,  9.98543345e-01,  9.98941342e-01,\n",
       "        9.89358247e-01,  9.69889811e-01,  9.40730557e-01,  9.02171834e-01,\n",
       "        8.54598908e-01,  7.98487113e-01,  7.34397098e-01,  6.62969230e-01,\n",
       "        5.84917193e-01,  5.01020856e-01,  4.12118485e-01,  3.19098362e-01,\n",
       "        2.22889914e-01,  1.24454424e-01,  2.47754255e-02, -7.51511205e-02,\n",
       "       -1.74326781e-01, -2.71760626e-01, -3.66479129e-01, -4.57535894e-01,\n",
       "       -5.44021111e-01, -6.25070649e-01, -6.99874688e-01, -7.67685810e-01,\n",
       "       -8.27826469e-01, -8.79695760e-01, -9.22775422e-01, -9.56635016e-01,\n",
       "       -9.80936230e-01, -9.95436253e-01, -9.99990207e-01, -9.94552588e-01,\n",
       "       -9.79177729e-01, -9.54019250e-01, -9.19328526e-01, -8.75452175e-01,\n",
       "       -8.22828595e-01, -7.61983584e-01, -6.93525085e-01, -6.18137112e-01,\n",
       "       -5.36572918e-01, -4.49647465e-01, -3.58229282e-01, -2.63231791e-01,\n",
       "       -1.65604175e-01, -6.63218974e-02,  3.36230472e-02,  1.33232041e-01,\n",
       "        2.31509825e-01,  3.27474439e-01,  4.20167037e-01,  5.08661464e-01,\n",
       "        5.92073515e-01,  6.69569762e-01,  7.40375890e-01,  8.03784427e-01,\n",
       "        8.59161815e-01,  9.05954742e-01,  9.43695669e-01,  9.72007501e-01,\n",
       "        9.90607356e-01,  9.99309389e-01,  9.98026653e-01,  9.86771964e-01,\n",
       "        9.65657777e-01,  9.34895056e-01,  8.94791172e-01,  8.45746831e-01,\n",
       "        7.88252067e-01,  7.22881350e-01,  6.50287840e-01,  5.71196870e-01,\n",
       "        4.86398689e-01,  3.96740573e-01,  3.03118357e-01,  2.06467482e-01,\n",
       "        1.07753652e-01,  7.96318379e-03, -9.19068502e-02, -1.90858581e-01,\n",
       "       -2.87903317e-01, -3.82071417e-01, -4.72421986e-01, -5.58052271e-01,\n",
       "       -6.38106682e-01, -7.11785342e-01, -7.78352079e-01, -8.37141778e-01,\n",
       "       -8.87567034e-01, -9.29124013e-01, -9.61397492e-01, -9.84065005e-01,\n",
       "       -9.96900066e-01, -9.99774431e-01, -9.92659380e-01, -9.75626005e-01,\n",
       "       -9.48844498e-01, -9.12582450e-01, -8.67202179e-01, -8.13157112e-01,\n",
       "       -7.50987247e-01, -6.81313766e-01, -6.04832822e-01, -5.22308590e-01,\n",
       "       -4.34565622e-01, -3.42480618e-01, -2.46973662e-01, -1.48999026e-01,\n",
       "       -4.95356409e-02,  5.04226878e-02,  1.49877210e-01,  2.47834208e-01,\n",
       "        3.43314929e-01,  4.35365360e-01,  5.23065765e-01,  6.05539870e-01,\n",
       "        6.81963620e-01,  7.51573415e-01,  8.13673738e-01,  8.67644101e-01,\n",
       "        9.12945251e-01,  9.49124554e-01,  9.75820518e-01,  9.92766406e-01,\n",
       "        9.99792900e-01,  9.96829794e-01,  9.83906695e-01,  9.61152725e-01,\n",
       "        9.28795234e-01,  8.87157529e-01,  8.36655639e-01,  7.77794162e-01,\n",
       "        7.11161223e-01,  6.37422596e-01,  5.57315054e-01,  4.71639003e-01,\n",
       "        3.81250492e-01,  2.87052651e-01,  1.89986676e-01,  9.10224162e-02,\n",
       "       -8.85130929e-03, -1.08636595e-01, -2.07336421e-01, -3.03964609e-01,\n",
       "       -3.97555683e-01, -4.87174512e-01, -5.71925655e-01, -6.50962306e-01,\n",
       "       -7.23494756e-01, -7.88798286e-01, -8.46220404e-01, -8.95187368e-01,\n",
       "       -9.35209915e-01, -9.65888154e-01, -9.86915558e-01, -9.98082028e-01,\n",
       "       -9.99275992e-01, -9.90485521e-01, -9.71798446e-01, -9.43401482e-01,\n",
       "       -9.05578362e-01, -8.58707003e-01, -8.03255727e-01, -7.39778585e-01,\n",
       "       -6.68909820e-01, -5.91357530e-01, -5.07896590e-01, -4.19360916e-01,\n",
       "       -3.26635126e-01, -2.30645706e-01, -1.32351750e-01, -3.27353793e-02,\n",
       "        6.72080725e-02,  1.66480004e-01,  2.64088521e-01,  3.59058354e-01,\n",
       "        4.50440594e-01,  5.37322181e-01,  6.18835022e-01,  6.94164668e-01,\n",
       "        7.62558450e-01,  8.23333001e-01,  8.75881080e-01,  9.19677645e-01,\n",
       "        9.54285094e-01,  9.79357643e-01,  9.94644774e-01,  9.99993743e-01,\n",
       "        9.95351105e-01,  9.80763248e-01,  9.56375928e-01,  9.22432817e-01,\n",
       "        8.79273062e-01,  8.27327901e-01,  7.67116353e-01,  6.99240032e-01,\n",
       "        6.24377135e-01,  5.43275669e-01,  4.56745972e-01,  3.65652620e-01,\n",
       "        2.70905788e-01,  1.73452155e-01,  7.42654456e-02, -2.56632999e-02,\n",
       "       -1.25335626e-01, -2.23755640e-01, -3.19939962e-01, -4.12927549e-01,\n",
       "       -5.01789301e-01, -5.85637340e-01, -6.63633884e-01, -7.34999618e-01,\n",
       "       -7.99021479e-01, -8.55059781e-01, -9.02554608e-01, -9.41031408e-01,\n",
       "       -9.70105734e-01, -9.89487083e-01, -9.98981805e-01, -9.98495031e-01,\n",
       "       -9.88031624e-01, -9.67696132e-01, -9.37691740e-01, -8.98318243e-01,\n",
       "       -8.49969046e-01, -7.93127239e-01, -7.28360768e-01, -6.56316756e-01,\n",
       "       -5.77715044e-01, -4.93340995e-01, -4.04037645e-01, -3.10697285e-01,\n",
       "       -2.14252540e-01, -1.15667055e-01, -1.59258626e-02,  8.39744557e-02,\n",
       "        1.83035729e-01,  2.80268170e-01,  3.74700264e-01,  4.65388476e-01,\n",
       "        5.51426681e-01,  6.31955213e-01,  7.06169457e-01,  7.73327890e-01,\n",
       "        8.32759485e-01,  8.83870424e-01,  9.26150021e-01,  9.59175833e-01,\n",
       "        9.82617877e-01,  9.96241929e-01,  9.99911860e-01,  9.93591003e-01,\n",
       "        9.77342512e-01,  9.51328739e-01,  9.15809603e-01,  8.71140000e-01,\n",
       "        8.17766255e-01,  7.56221659e-01,  6.87121146e-01,  6.11155146e-01,\n",
       "        5.29082686e-01,  4.41723807e-01,  3.49951369e-01,  2.54682333e-01,\n",
       "        1.56868595e-01,  5.74874781e-02, -4.24680347e-02, -1.41999221e-01,\n",
       "       -2.40111598e-01, -3.35824859e-01, -4.28182669e-01, -5.16262220e-01,\n",
       "       -5.99183449e-01, -6.76117835e-01, -7.46296676e-01, -8.09018766e-01,\n",
       "       -8.63657409e-01, -9.09666672e-01, -9.46586846e-01, -9.74049038e-01,\n",
       "       -9.91778853e-01, -9.99599143e-01, -9.97431767e-01, -9.85298384e-01,\n",
       "       -9.63320224e-01, -9.31716888e-01, -8.90804144e-01, -8.40990780e-01,\n",
       "       -7.82774514e-01, -7.16737023e-01, -6.43538133e-01, -5.63909223e-01,\n",
       "       -4.78645919e-01, -3.88600142e-01, -2.94671602e-01, -1.97798800e-01,\n",
       "       -9.89496576e-02,  8.88156806e-04,  1.00717097e-01,  1.99539705e-01,\n",
       "        2.96368579e-01,  3.90236235e-01,  4.80204780e-01,  5.65375278e-01,\n",
       "        6.44896733e-01,  7.17974593e-01,  7.83878688e-01,  8.41950526e-01,\n",
       "        8.91609873e-01,  9.32360549e-01,  9.63795386e-01,  9.85600299e-01,\n",
       "        9.97557419e-01,  9.99547275e-01,  9.91549985e-01,  9.73645456e-01,\n",
       "        9.46012583e-01,  9.08927465e-01,  8.62760644e-01,  8.07973404e-01,\n",
       "        7.45113160e-01,  6.74807993e-01,  5.97760367e-01,  5.14740117e-01,\n",
       "        4.26576754e-01,  3.34151177e-01,  2.38386872e-01,  1.40240684e-01,\n",
       "        4.06932573e-02, -5.92607627e-02, -1.58622669e-01, -2.56399670e-01,\n",
       "       -3.51614810e-01, -4.43316731e-01, -5.30589178e-01, -6.12560153e-01,\n",
       "       -6.88410630e-01, -7.57382735e-01, -8.18787322e-01, -8.72010857e-01,\n",
       "       -9.16521548e-01, -9.51874658e-01, -9.77716952e-01, -9.93790221e-01,\n",
       "       -9.99933866e-01, -9.96086503e-01, -9.82286573e-01, -9.58671960e-01,\n",
       "       -9.25478614e-01, -8.83038191e-01, -8.31774743e-01, -7.72200476e-01,\n",
       "       -7.04910637e-01, -6.30577565e-01, -5.49943970e-01, -4.63815516e-01,\n",
       "       -3.73052771e-01, -2.78562606e-01, -1.81289136e-01, -8.22042844e-02,\n",
       "        1.77019251e-02,  1.17431263e-01,  2.15987266e-01,  3.12385196e-01,\n",
       "        4.05661877e-01,  4.94885318e-01,  5.79164028e-01,  6.57655923e-01,\n",
       "        7.29576737e-01,  7.94207862e-01,  8.50903525e-01,  8.99097240e-01,\n",
       "        9.38307473e-01,  9.68142448e-01,  9.88304064e-01,  9.98590872e-01,\n",
       "        9.98900091e-01,  9.89228630e-01,  9.69673123e-01,  9.40428963e-01,\n",
       "        9.01788348e-01,  8.54137361e-01,  7.97952117e-01,  7.33793998e-01,\n",
       "        6.62304053e-01,  5.84196584e-01,  5.00252017e-01,  4.11309096e-01,\n",
       "        3.18256511e-01,  2.22024012e-01,  1.23573123e-01,  2.38875315e-02,\n",
       "       -7.60367361e-02, -1.75201270e-01, -2.72615250e-01, -3.67305349e-01,\n",
       "       -4.58325454e-01, -5.44766123e-01, -6.25763669e-01, -7.00508791e-01,\n",
       "       -7.68254661e-01, -8.28324385e-01, -8.80117764e-01, -9.23117298e-01,\n",
       "       -9.56893350e-01, -9.81108439e-01, -9.95520616e-01, -9.99985881e-01,\n",
       "       -9.94459618e-01, -9.78997043e-01, -9.53752653e-01, -9.18978681e-01,\n",
       "       -8.75022579e-01, -8.22323540e-01, -7.61408116e-01, -6.92884954e-01,\n",
       "       -6.17438715e-01, -5.35823232e-01, -4.48853980e-01, -3.57399928e-01,\n",
       "       -2.62374854e-01])"
      ]
     },
     "execution_count": 4,
     "metadata": {},
     "output_type": "execute_result"
    }
   ],
   "source": [
    "y"
   ]
  },
  {
   "cell_type": "markdown",
   "metadata": {
    "id": "XA_rIjxed8KR"
   },
   "source": [
    "Amacimiz, datasetinin siradaki degerlerini tahmin ederek forecast yapmak :"
   ]
  },
  {
   "cell_type": "code",
   "execution_count": 5,
   "metadata": {
    "colab": {
     "base_uri": "https://localhost:8080/",
     "height": 282
    },
    "id": "Em7R7l8nd8KR",
    "outputId": "a9403321-6e4a-4abd-ed79-4116ff768f66"
   },
   "outputs": [
    {
     "data": {
      "text/plain": [
       "[<matplotlib.lines.Line2D at 0x7f4aaa4f8dd0>]"
      ]
     },
     "execution_count": 5,
     "metadata": {},
     "output_type": "execute_result"
    },
    {
     "data": {
      "image/png": "[encoded data removed]",
      "text/plain": [
       "<Figure size 432x288 with 1 Axes>"
      ]
     },
     "metadata": {
      "needs_background": "light"
     },
     "output_type": "display_data"
    }
   ],
   "source": [
    "plt.plot(x,y)"
   ]
  },
  {
   "cell_type": "markdown",
   "metadata": {
    "id": "9aY5X5V0d8KR"
   },
   "source": [
    "Let's turn this into a DataFrame"
   ]
  },
  {
   "cell_type": "code",
   "execution_count": 6,
   "metadata": {
    "id": "1Pfs5J8wd8KS"
   },
   "outputs": [],
   "source": [
    "df = pd.DataFrame(data=y,index=x,columns=['Sine'])"
   ]
  },
  {
   "cell_type": "markdown",
   "metadata": {
    "id": "iMSvgihLd8KS"
   },
   "source": [
    "Tek feature li bir dataframe olustu :"
   ]
  },
  {
   "cell_type": "code",
   "execution_count": 7,
   "metadata": {
    "colab": {
     "base_uri": "https://localhost:8080/",
     "height": 419
    },
    "id": "HutbSJrpd8KS",
    "outputId": "97c1ae88-3b7e-4466-a273-d77913be3acf"
   },
   "outputs": [
    {
     "data": {
      "text/html": [
       "\n",
       "  <div id=\"df-d6fc9cbb-c06d-4ffa-b86c-a8d1bae6ab5b\">\n",
       "    <div class=\"colab-df-container\">\n",
       "      <div>\n",
       "<style scoped>\n",
       "    .dataframe tbody tr th:only-of-type {\n",
       "        vertical-align: middle;\n",
       "    }\n",
       "\n",
       "    .dataframe tbody tr th {\n",
       "        vertical-align: top;\n",
       "    }\n",
       "\n",
       "    .dataframe thead th {\n",
       "        text-align: right;\n",
       "    }\n",
       "</style>\n",
       "<table border=\"1\" class=\"dataframe\">\n",
       "  <thead>\n",
       "    <tr style=\"text-align: right;\">\n",
       "      <th></th>\n",
       "      <th>Sine</th>\n",
       "    </tr>\n",
       "  </thead>\n",
       "  <tbody>\n",
       "    <tr>\n",
       "      <th>0.000</th>\n",
       "      <td>0.000</td>\n",
       "    </tr>\n",
       "    <tr>\n",
       "      <th>0.100</th>\n",
       "      <td>0.100</td>\n",
       "    </tr>\n",
       "    <tr>\n",
       "      <th>0.200</th>\n",
       "      <td>0.199</td>\n",
       "    </tr>\n",
       "    <tr>\n",
       "      <th>0.300</th>\n",
       "      <td>0.296</td>\n",
       "    </tr>\n",
       "    <tr>\n",
       "      <th>0.400</th>\n",
       "      <td>0.389</td>\n",
       "    </tr>\n",
       "    <tr>\n",
       "      <th>...</th>\n",
       "      <td>...</td>\n",
       "    </tr>\n",
       "    <tr>\n",
       "      <th>49.600</th>\n",
       "      <td>-0.617</td>\n",
       "    </tr>\n",
       "    <tr>\n",
       "      <th>49.700</th>\n",
       "      <td>-0.536</td>\n",
       "    </tr>\n",
       "    <tr>\n",
       "      <th>49.800</th>\n",
       "      <td>-0.449</td>\n",
       "    </tr>\n",
       "    <tr>\n",
       "      <th>49.900</th>\n",
       "      <td>-0.357</td>\n",
       "    </tr>\n",
       "    <tr>\n",
       "      <th>50.000</th>\n",
       "      <td>-0.262</td>\n",
       "    </tr>\n",
       "  </tbody>\n",
       "</table>\n",
       "<p>501 rows × 1 columns</p>\n",
       "</div>\n",
       "      <button class=\"colab-df-convert\" onclick=\"convertToInteractive('df-d6fc9cbb-c06d-4ffa-b86c-a8d1bae6ab5b')\"\n",
       "              title=\"Convert this dataframe to an interactive table.\"\n",
       "              style=\"display:none;\">\n",
       "        \n",
       "  <svg xmlns=\"http://www.w3.org/2000/svg\" height=\"24px\"viewBox=\"0 0 24 24\"\n",
       "       width=\"24px\">\n",
       "    <path d=\"M0 0h24v24H0V0z\" fill=\"none\"/>\n",
       "    <path d=\"M18.56 5.44l.94 2.06.94-2.06 2.06-.94-2.06-.94-.94-2.06-.94 2.06-2.06.94zm-11 1L8.5 8.5l.94-2.06 2.06-.94-2.06-.94L8.5 2.5l-.94 2.06-2.06.94zm10 10l.94 2.06.94-2.06 2.06-.94-2.06-.94-.94-2.06-.94 2.06-2.06.94z\"/><path d=\"M17.41 7.96l-1.37-1.37c-.4-.4-.92-.59-1.43-.59-.52 0-1.04.2-1.43.59L10.3 9.45l-7.72 7.72c-.78.78-.78 2.05 0 2.83L4 21.41c.39.39.9.59 1.41.59.51 0 1.02-.2 1.41-.59l7.78-7.78 2.81-2.81c.8-.78.8-2.07 0-2.86zM5.41 20L4 18.59l7.72-7.72 1.47 1.35L5.41 20z\"/>\n",
       "  </svg>\n",
       "      </button>\n",
       "      \n",
       "  <style>\n",
       "    .colab-df-container {\n",
       "      display:flex;\n",
       "      flex-wrap:wrap;\n",
       "      gap: 12px;\n",
       "    }\n",
       "\n",
       "    .colab-df-convert {\n",
       "      background-color: #E8F0FE;\n",
       "      border: none;\n",
       "      border-radius: 50%;\n",
       "      cursor: pointer;\n",
       "      display: none;\n",
       "      fill: #1967D2;\n",
       "      height: 32px;\n",
       "      padding: 0 0 0 0;\n",
       "      width: 32px;\n",
       "    }\n",
       "\n",
       "    .colab-df-convert:hover {\n",
       "      background-color: #E2EBFA;\n",
       "      box-shadow: 0px 1px 2px rgba(60, 64, 67, 0.3), 0px 1px 3px 1px rgba(60, 64, 67, 0.15);\n",
       "      fill: #174EA6;\n",
       "    }\n",
       "\n",
       "    [theme=dark] .colab-df-convert {\n",
       "      background-color: #3B4455;\n",
       "      fill: #D2E3FC;\n",
       "    }\n",
       "\n",
       "    [theme=dark] .colab-df-convert:hover {\n",
       "      background-color: #434B5C;\n",
       "      box-shadow: 0px 1px 3px 1px rgba(0, 0, 0, 0.15);\n",
       "      filter: drop-shadow(0px 1px 2px rgba(0, 0, 0, 0.3));\n",
       "      fill: #FFFFFF;\n",
       "    }\n",
       "  </style>\n",
       "\n",
       "      <script>\n",
       "        const buttonEl =\n",
       "          document.querySelector('#df-d6fc9cbb-c06d-4ffa-b86c-a8d1bae6ab5b button.colab-df-convert');\n",
       "        buttonEl.style.display =\n",
       "          google.colab.kernel.accessAllowed ? 'block' : 'none';\n",
       "\n",
       "        async function convertToInteractive(key) {\n",
       "          const element = document.querySelector('#df-d6fc9cbb-c06d-4ffa-b86c-a8d1bae6ab5b');\n",
       "          const dataTable =\n",
       "            await google.colab.kernel.invokeFunction('convertToInteractive',\n",
       "                                                     [key], {});\n",
       "          if (!dataTable) return;\n",
       "\n",
       "          const docLinkHtml = 'Like what you see? Visit the ' +\n",
       "            '<a target=\"_blank\" href=https://colab.research.google.com/notebooks/data_table.ipynb>data table notebook</a>'\n",
       "            + ' to learn more about interactive tables.';\n",
       "          element.innerHTML = '';\n",
       "          dataTable['output_type'] = 'display_data';\n",
       "          await google.colab.output.renderOutput(dataTable, element);\n",
       "          const docLink = document.createElement('div');\n",
       "          docLink.innerHTML = docLinkHtml;\n",
       "          element.appendChild(docLink);\n",
       "        }\n",
       "      </script>\n",
       "    </div>\n",
       "  </div>\n",
       "  "
      ],
      "text/plain": [
       "         Sine\n",
       "0.000   0.000\n",
       "0.100   0.100\n",
       "0.200   0.199\n",
       "0.300   0.296\n",
       "0.400   0.389\n",
       "...       ...\n",
       "49.600 -0.617\n",
       "49.700 -0.536\n",
       "49.800 -0.449\n",
       "49.900 -0.357\n",
       "50.000 -0.262\n",
       "\n",
       "[501 rows x 1 columns]"
      ]
     },
     "execution_count": 7,
     "metadata": {},
     "output_type": "execute_result"
    }
   ],
   "source": [
    "df"
   ]
  },
  {
   "cell_type": "markdown",
   "metadata": {
    "id": "ZGtzHA3-d8KS"
   },
   "source": [
    "## Preprocessing of Data"
   ]
  },
  {
   "cell_type": "markdown",
   "metadata": {
    "id": "dh9gIlyKd8KS"
   },
   "source": [
    "### Train Test Split"
   ]
  },
  {
   "cell_type": "code",
   "execution_count": 8,
   "metadata": {
    "colab": {
     "base_uri": "https://localhost:8080/"
    },
    "id": "t6h_TUlUd8KT",
    "outputId": "df541913-d6f6-4c03-f280-94707b6546e3"
   },
   "outputs": [
    {
     "data": {
      "text/plain": [
       "501"
      ]
     },
     "execution_count": 8,
     "metadata": {},
     "output_type": "execute_result"
    }
   ],
   "source": [
    "len(df)"
   ]
  },
  {
   "cell_type": "markdown",
   "metadata": {
    "id": "L-ZBwVCPd8KT"
   },
   "source": [
    "Simdiye kadar test ve train datalarini ayirirken random olarak bir bölme islemi yapiyorduk. Burda ise datamizi random olarak bölmeyecegiz cunku datamizin sirasi önemli. Bu yüzden datamizin son kismindan belli bir bölümü test datasi olarak ayiracagiz."
   ]
  },
  {
   "cell_type": "code",
   "execution_count": 9,
   "metadata": {
    "id": "xF8npuZ-d8KT"
   },
   "outputs": [],
   "source": [
    "test_percent = 0.15"
   ]
  },
  {
   "cell_type": "markdown",
   "metadata": {
    "id": "RBlgK5yod8KT"
   },
   "source": [
    "%15' lik kisim, datasetimizde 75. indexe karsilik geliyor :"
   ]
  },
  {
   "cell_type": "code",
   "execution_count": 10,
   "metadata": {
    "colab": {
     "base_uri": "https://localhost:8080/"
    },
    "id": "GqRDas7-d8KT",
    "outputId": "c49bc7d0-b1bb-4870-ad48-953c496268eb"
   },
   "outputs": [
    {
     "data": {
      "text/plain": [
       "75.14999999999999"
      ]
     },
     "execution_count": 10,
     "metadata": {},
     "output_type": "execute_result"
    }
   ],
   "source": [
    "len(df)*test_percent"
   ]
  },
  {
   "cell_type": "markdown",
   "metadata": {
    "id": "8tEzdq9Ud8KU"
   },
   "source": [
    "Küsurattan kurtulmak icin round ile datanin 75' e kadar olan uzunlugunu bir degiskene atadik :"
   ]
  },
  {
   "cell_type": "code",
   "execution_count": 11,
   "metadata": {
    "colab": {
     "base_uri": "https://localhost:8080/"
    },
    "id": "YZ38-AVrd8KU",
    "outputId": "2a27240d-3522-487e-8ebf-3b968f541655"
   },
   "outputs": [
    {
     "data": {
      "text/plain": [
       "75.0"
      ]
     },
     "execution_count": 11,
     "metadata": {},
     "output_type": "execute_result"
    }
   ],
   "source": [
    "test_point = np.round(len(df)*test_percent)\n",
    "test_point"
   ]
  },
  {
   "cell_type": "markdown",
   "metadata": {
    "id": "qEBTA1mud8KU"
   },
   "source": [
    "Bu degeri df' in gercek uzunlugundan cikarirsak elimize train kismi icin kullanacagimiz data kalir. Bastan 426' ya kadar olan data train datasi, sonrasi ise test datasi olacak  :"
   ]
  },
  {
   "cell_type": "code",
   "execution_count": 12,
   "metadata": {
    "colab": {
     "base_uri": "https://localhost:8080/"
    },
    "id": "Og8q_rBxd8KU",
    "outputId": "db78593e-f5c0-4565-e8da-bd4ed0e0d0d1"
   },
   "outputs": [
    {
     "data": {
      "text/plain": [
       "426"
      ]
     },
     "execution_count": 12,
     "metadata": {},
     "output_type": "execute_result"
    }
   ],
   "source": [
    "test_ind = int(len(df) - test_point)\n",
    "test_ind"
   ]
  },
  {
   "cell_type": "markdown",
   "metadata": {
    "id": "9ykafOM3d8KU"
   },
   "source": [
    "Train datasi olarak test_ind' e kadar olan kismi, test datasi olarak da test_ind' den sonraki kismi aldik :"
   ]
  },
  {
   "cell_type": "code",
   "execution_count": 13,
   "metadata": {
    "id": "50d-7i8ad8KU"
   },
   "outputs": [],
   "source": [
    "train = df.iloc[:test_ind]\n",
    "test = df.iloc[test_ind:]"
   ]
  },
  {
   "cell_type": "code",
   "execution_count": 14,
   "metadata": {
    "colab": {
     "base_uri": "https://localhost:8080/",
     "height": 500
    },
    "id": "euEwDd_7d8KV",
    "outputId": "45e9b5b0-c5e2-4a35-9ad6-eb6d711819f8",
    "scrolled": true
   },
   "outputs": [
    {
     "data": {
      "text/html": [
       "\n",
       "  <div id=\"df-2b9e77ce-7b75-4161-b98c-306963913ea5\">\n",
       "    <div class=\"colab-df-container\">\n",
       "      <div>\n",
       "<style scoped>\n",
       "    .dataframe tbody tr th:only-of-type {\n",
       "        vertical-align: middle;\n",
       "    }\n",
       "\n",
       "    .dataframe tbody tr th {\n",
       "        vertical-align: top;\n",
       "    }\n",
       "\n",
       "    .dataframe thead th {\n",
       "        text-align: right;\n",
       "    }\n",
       "</style>\n",
       "<table border=\"1\" class=\"dataframe\">\n",
       "  <thead>\n",
       "    <tr style=\"text-align: right;\">\n",
       "      <th></th>\n",
       "      <th>Sine</th>\n",
       "    </tr>\n",
       "  </thead>\n",
       "  <tbody>\n",
       "    <tr>\n",
       "      <th>0.000</th>\n",
       "      <td>0.000</td>\n",
       "    </tr>\n",
       "    <tr>\n",
       "      <th>0.100</th>\n",
       "      <td>0.100</td>\n",
       "    </tr>\n",
       "    <tr>\n",
       "      <th>0.200</th>\n",
       "      <td>0.199</td>\n",
       "    </tr>\n",
       "    <tr>\n",
       "      <th>0.300</th>\n",
       "      <td>0.296</td>\n",
       "    </tr>\n",
       "    <tr>\n",
       "      <th>0.400</th>\n",
       "      <td>0.389</td>\n",
       "    </tr>\n",
       "    <tr>\n",
       "      <th>...</th>\n",
       "      <td>...</td>\n",
       "    </tr>\n",
       "    <tr>\n",
       "      <th>42.100</th>\n",
       "      <td>-0.952</td>\n",
       "    </tr>\n",
       "    <tr>\n",
       "      <th>42.200</th>\n",
       "      <td>-0.978</td>\n",
       "    </tr>\n",
       "    <tr>\n",
       "      <th>42.300</th>\n",
       "      <td>-0.994</td>\n",
       "    </tr>\n",
       "    <tr>\n",
       "      <th>42.400</th>\n",
       "      <td>-1.000</td>\n",
       "    </tr>\n",
       "    <tr>\n",
       "      <th>42.500</th>\n",
       "      <td>-0.996</td>\n",
       "    </tr>\n",
       "  </tbody>\n",
       "</table>\n",
       "<p>426 rows × 1 columns</p>\n",
       "</div>\n",
       "      <button class=\"colab-df-convert\" onclick=\"convertToInteractive('df-2b9e77ce-7b75-4161-b98c-306963913ea5')\"\n",
       "              title=\"Convert this dataframe to an interactive table.\"\n",
       "              style=\"display:none;\">\n",
       "        \n",
       "  <svg xmlns=\"http://www.w3.org/2000/svg\" height=\"24px\"viewBox=\"0 0 24 24\"\n",
       "       width=\"24px\">\n",
       "    <path d=\"M0 0h24v24H0V0z\" fill=\"none\"/>\n",
       "    <path d=\"M18.56 5.44l.94 2.06.94-2.06 2.06-.94-2.06-.94-.94-2.06-.94 2.06-2.06.94zm-11 1L8.5 8.5l.94-2.06 2.06-.94-2.06-.94L8.5 2.5l-.94 2.06-2.06.94zm10 10l.94 2.06.94-2.06 2.06-.94-2.06-.94-.94-2.06-.94 2.06-2.06.94z\"/><path d=\"M17.41 7.96l-1.37-1.37c-.4-.4-.92-.59-1.43-.59-.52 0-1.04.2-1.43.59L10.3 9.45l-7.72 7.72c-.78.78-.78 2.05 0 2.83L4 21.41c.39.39.9.59 1.41.59.51 0 1.02-.2 1.41-.59l7.78-7.78 2.81-2.81c.8-.78.8-2.07 0-2.86zM5.41 20L4 18.59l7.72-7.72 1.47 1.35L5.41 20z\"/>\n",
       "  </svg>\n",
       "      </button>\n",
       "      \n",
       "  <style>\n",
       "    .colab-df-container {\n",
       "      display:flex;\n",
       "      flex-wrap:wrap;\n",
       "      gap: 12px;\n",
       "    }\n",
       "\n",
       "    .colab-df-convert {\n",
       "      background-color: #E8F0FE;\n",
       "      border: none;\n",
       "      border-radius: 50%;\n",
       "      cursor: pointer;\n",
       "      display: none;\n",
       "      fill: #1967D2;\n",
       "      height: 32px;\n",
       "      padding: 0 0 0 0;\n",
       "      width: 32px;\n",
       "    }\n",
       "\n",
       "    .colab-df-convert:hover {\n",
       "      background-color: #E2EBFA;\n",
       "      box-shadow: 0px 1px 2px rgba(60, 64, 67, 0.3), 0px 1px 3px 1px rgba(60, 64, 67, 0.15);\n",
       "      fill: #174EA6;\n",
       "    }\n",
       "\n",
       "    [theme=dark] .colab-df-convert {\n",
       "      background-color: #3B4455;\n",
       "      fill: #D2E3FC;\n",
       "    }\n",
       "\n",
       "    [theme=dark] .colab-df-convert:hover {\n",
       "      background-color: #434B5C;\n",
       "      box-shadow: 0px 1px 3px 1px rgba(0, 0, 0, 0.15);\n",
       "      filter: drop-shadow(0px 1px 2px rgba(0, 0, 0, 0.3));\n",
       "      fill: #FFFFFF;\n",
       "    }\n",
       "  </style>\n",
       "\n",
       "      <script>\n",
       "        const buttonEl =\n",
       "          document.querySelector('#df-2b9e77ce-7b75-4161-b98c-306963913ea5 button.colab-df-convert');\n",
       "        buttonEl.style.display =\n",
       "          google.colab.kernel.accessAllowed ? 'block' : 'none';\n",
       "\n",
       "        async function convertToInteractive(key) {\n",
       "          const element = document.querySelector('#df-2b9e77ce-7b75-4161-b98c-306963913ea5');\n",
       "          const dataTable =\n",
       "            await google.colab.kernel.invokeFunction('convertToInteractive',\n",
       "                                                     [key], {});\n",
       "          if (!dataTable) return;\n",
       "\n",
       "          const docLinkHtml = 'Like what you see? Visit the ' +\n",
       "            '<a target=\"_blank\" href=https://colab.research.google.com/notebooks/data_table.ipynb>data table notebook</a>'\n",
       "            + ' to learn more about interactive tables.';\n",
       "          element.innerHTML = '';\n",
       "          dataTable['output_type'] = 'display_data';\n",
       "          await google.colab.output.renderOutput(dataTable, element);\n",
       "          const docLink = document.createElement('div');\n",
       "          docLink.innerHTML = docLinkHtml;\n",
       "          element.appendChild(docLink);\n",
       "        }\n",
       "      </script>\n",
       "    </div>\n",
       "  </div>\n",
       "  "
      ],
      "text/plain": [
       "         Sine\n",
       "0.000   0.000\n",
       "0.100   0.100\n",
       "0.200   0.199\n",
       "0.300   0.296\n",
       "0.400   0.389\n",
       "...       ...\n",
       "42.100 -0.952\n",
       "42.200 -0.978\n",
       "42.300 -0.994\n",
       "42.400 -1.000\n",
       "42.500 -0.996\n",
       "\n",
       "[426 rows x 1 columns]"
      ]
     },
     "execution_count": 14,
     "metadata": {},
     "output_type": "execute_result"
    }
   ],
   "source": [
    "train"
   ]
  },
  {
   "cell_type": "code",
   "execution_count": 15,
   "metadata": {
    "colab": {
     "base_uri": "https://localhost:8080/",
     "height": 500
    },
    "id": "XgTfg5Ddd8KV",
    "outputId": "8ac9b454-2d15-4fad-ae62-3241e9b1d2c6",
    "scrolled": true
   },
   "outputs": [
    {
     "data": {
      "text/html": [
       "\n",
       "  <div id=\"df-15ade022-0a0b-42bc-a331-0d25f9b6ccdf\">\n",
       "    <div class=\"colab-df-container\">\n",
       "      <div>\n",
       "<style scoped>\n",
       "    .dataframe tbody tr th:only-of-type {\n",
       "        vertical-align: middle;\n",
       "    }\n",
       "\n",
       "    .dataframe tbody tr th {\n",
       "        vertical-align: top;\n",
       "    }\n",
       "\n",
       "    .dataframe thead th {\n",
       "        text-align: right;\n",
       "    }\n",
       "</style>\n",
       "<table border=\"1\" class=\"dataframe\">\n",
       "  <thead>\n",
       "    <tr style=\"text-align: right;\">\n",
       "      <th></th>\n",
       "      <th>Sine</th>\n",
       "    </tr>\n",
       "  </thead>\n",
       "  <tbody>\n",
       "    <tr>\n",
       "      <th>42.600</th>\n",
       "      <td>-0.982</td>\n",
       "    </tr>\n",
       "    <tr>\n",
       "      <th>42.700</th>\n",
       "      <td>-0.959</td>\n",
       "    </tr>\n",
       "    <tr>\n",
       "      <th>42.800</th>\n",
       "      <td>-0.925</td>\n",
       "    </tr>\n",
       "    <tr>\n",
       "      <th>42.900</th>\n",
       "      <td>-0.883</td>\n",
       "    </tr>\n",
       "    <tr>\n",
       "      <th>43.000</th>\n",
       "      <td>-0.832</td>\n",
       "    </tr>\n",
       "    <tr>\n",
       "      <th>...</th>\n",
       "      <td>...</td>\n",
       "    </tr>\n",
       "    <tr>\n",
       "      <th>49.600</th>\n",
       "      <td>-0.617</td>\n",
       "    </tr>\n",
       "    <tr>\n",
       "      <th>49.700</th>\n",
       "      <td>-0.536</td>\n",
       "    </tr>\n",
       "    <tr>\n",
       "      <th>49.800</th>\n",
       "      <td>-0.449</td>\n",
       "    </tr>\n",
       "    <tr>\n",
       "      <th>49.900</th>\n",
       "      <td>-0.357</td>\n",
       "    </tr>\n",
       "    <tr>\n",
       "      <th>50.000</th>\n",
       "      <td>-0.262</td>\n",
       "    </tr>\n",
       "  </tbody>\n",
       "</table>\n",
       "<p>75 rows × 1 columns</p>\n",
       "</div>\n",
       "      <button class=\"colab-df-convert\" onclick=\"convertToInteractive('df-15ade022-0a0b-42bc-a331-0d25f9b6ccdf')\"\n",
       "              title=\"Convert this dataframe to an interactive table.\"\n",
       "              style=\"display:none;\">\n",
       "        \n",
       "  <svg xmlns=\"http://www.w3.org/2000/svg\" height=\"24px\"viewBox=\"0 0 24 24\"\n",
       "       width=\"24px\">\n",
       "    <path d=\"M0 0h24v24H0V0z\" fill=\"none\"/>\n",
       "    <path d=\"M18.56 5.44l.94 2.06.94-2.06 2.06-.94-2.06-.94-.94-2.06-.94 2.06-2.06.94zm-11 1L8.5 8.5l.94-2.06 2.06-.94-2.06-.94L8.5 2.5l-.94 2.06-2.06.94zm10 10l.94 2.06.94-2.06 2.06-.94-2.06-.94-.94-2.06-.94 2.06-2.06.94z\"/><path d=\"M17.41 7.96l-1.37-1.37c-.4-.4-.92-.59-1.43-.59-.52 0-1.04.2-1.43.59L10.3 9.45l-7.72 7.72c-.78.78-.78 2.05 0 2.83L4 21.41c.39.39.9.59 1.41.59.51 0 1.02-.2 1.41-.59l7.78-7.78 2.81-2.81c.8-.78.8-2.07 0-2.86zM5.41 20L4 18.59l7.72-7.72 1.47 1.35L5.41 20z\"/>\n",
       "  </svg>\n",
       "      </button>\n",
       "      \n",
       "  <style>\n",
       "    .colab-df-container {\n",
       "      display:flex;\n",
       "      flex-wrap:wrap;\n",
       "      gap: 12px;\n",
       "    }\n",
       "\n",
       "    .colab-df-convert {\n",
       "      background-color: #E8F0FE;\n",
       "      border: none;\n",
       "      border-radius: 50%;\n",
       "      cursor: pointer;\n",
       "      display: none;\n",
       "      fill: #1967D2;\n",
       "      height: 32px;\n",
       "      padding: 0 0 0 0;\n",
       "      width: 32px;\n",
       "    }\n",
       "\n",
       "    .colab-df-convert:hover {\n",
       "      background-color: #E2EBFA;\n",
       "      box-shadow: 0px 1px 2px rgba(60, 64, 67, 0.3), 0px 1px 3px 1px rgba(60, 64, 67, 0.15);\n",
       "      fill: #174EA6;\n",
       "    }\n",
       "\n",
       "    [theme=dark] .colab-df-convert {\n",
       "      background-color: #3B4455;\n",
       "      fill: #D2E3FC;\n",
       "    }\n",
       "\n",
       "    [theme=dark] .colab-df-convert:hover {\n",
       "      background-color: #434B5C;\n",
       "      box-shadow: 0px 1px 3px 1px rgba(0, 0, 0, 0.15);\n",
       "      filter: drop-shadow(0px 1px 2px rgba(0, 0, 0, 0.3));\n",
       "      fill: #FFFFFF;\n",
       "    }\n",
       "  </style>\n",
       "\n",
       "      <script>\n",
       "        const buttonEl =\n",
       "          document.querySelector('#df-15ade022-0a0b-42bc-a331-0d25f9b6ccdf button.colab-df-convert');\n",
       "        buttonEl.style.display =\n",
       "          google.colab.kernel.accessAllowed ? 'block' : 'none';\n",
       "\n",
       "        async function convertToInteractive(key) {\n",
       "          const element = document.querySelector('#df-15ade022-0a0b-42bc-a331-0d25f9b6ccdf');\n",
       "          const dataTable =\n",
       "            await google.colab.kernel.invokeFunction('convertToInteractive',\n",
       "                                                     [key], {});\n",
       "          if (!dataTable) return;\n",
       "\n",
       "          const docLinkHtml = 'Like what you see? Visit the ' +\n",
       "            '<a target=\"_blank\" href=https://colab.research.google.com/notebooks/data_table.ipynb>data table notebook</a>'\n",
       "            + ' to learn more about interactive tables.';\n",
       "          element.innerHTML = '';\n",
       "          dataTable['output_type'] = 'display_data';\n",
       "          await google.colab.output.renderOutput(dataTable, element);\n",
       "          const docLink = document.createElement('div');\n",
       "          docLink.innerHTML = docLinkHtml;\n",
       "          element.appendChild(docLink);\n",
       "        }\n",
       "      </script>\n",
       "    </div>\n",
       "  </div>\n",
       "  "
      ],
      "text/plain": [
       "         Sine\n",
       "42.600 -0.982\n",
       "42.700 -0.959\n",
       "42.800 -0.925\n",
       "42.900 -0.883\n",
       "43.000 -0.832\n",
       "...       ...\n",
       "49.600 -0.617\n",
       "49.700 -0.536\n",
       "49.800 -0.449\n",
       "49.900 -0.357\n",
       "50.000 -0.262\n",
       "\n",
       "[75 rows x 1 columns]"
      ]
     },
     "execution_count": 15,
     "metadata": {},
     "output_type": "execute_result"
    }
   ],
   "source": [
    "test"
   ]
  },
  {
   "cell_type": "markdown",
   "metadata": {
    "id": "OhhhkEXCd8KV"
   },
   "source": [
    "### Scaling"
   ]
  },
  {
   "cell_type": "code",
   "execution_count": 16,
   "metadata": {
    "id": "nsa9aEWpd8KV"
   },
   "outputs": [],
   "source": [
    "from sklearn.preprocessing import MinMaxScaler"
   ]
  },
  {
   "cell_type": "code",
   "execution_count": 17,
   "metadata": {
    "id": "6EYeZJW1d8KV"
   },
   "outputs": [],
   "source": [
    "scaler = MinMaxScaler()"
   ]
  },
  {
   "cell_type": "code",
   "execution_count": 18,
   "metadata": {
    "id": "Gcv2Hb_3d8KW"
   },
   "outputs": [],
   "source": [
    "train_scaled = scaler.fit_transform(train)\n",
    "test_scaled = scaler.transform(test)"
   ]
  },
  {
   "cell_type": "markdown",
   "metadata": {
    "id": "HrObhF33d8KW"
   },
   "source": [
    "## Time Series Generator"
   ]
  },
  {
   "cell_type": "code",
   "execution_count": 19,
   "metadata": {
    "id": "7Y63VrlBd8KW"
   },
   "outputs": [],
   "source": [
    "from tensorflow.keras.preprocessing.sequence import TimeseriesGenerator"
   ]
  },
  {
   "cell_type": "markdown",
   "metadata": {
    "id": "plubkAEud8KX"
   },
   "source": [
    "__TimeSeriesGenerator --->__ CNN' deki ImageDataGenerator ile benzer islemleri yapar."
   ]
  },
  {
   "cell_type": "markdown",
   "metadata": {
    "id": "zM3woK_Ed8KX"
   },
   "source": [
    "Generator icinde __data__ ve __targets__ olarak __train_scaled__ datasini kullandik. Cunku RNN' de tahmin yapacak feature ile target label ayni feature."
   ]
  },
  {
   "cell_type": "markdown",
   "metadata": {
    "id": "ltX_355yd8KX"
   },
   "source": [
    "__length=3 --->__ sequence' lerin uzunlugu. \"3 satirdan aldigin bilgiye göre 4.' yü tahmin et.\""
   ]
  },
  {
   "cell_type": "markdown",
   "metadata": {
    "id": "rA_RjRizd8KX"
   },
   "source": [
    "__batch_size --->__ 'Bir batch' de yukardaki şarta gore kac data olacak?' Biz burda tek tek yaptik fakat buyuk datasetlerinde bunu yapmak mümkün degil. (Tavsiye edilen, mümkünse tek tek yapilmasidir.)"
   ]
  },
  {
   "cell_type": "markdown",
   "metadata": {
    "id": "NijDsn6ud8KY"
   },
   "source": [
    "__stride=1 --->__ Ilk 2 veriden sonra 3. tahmin edilecek; sonra bir adim kayilarak 2 ve 3'e göre 4 tahmin edilecek. Bu islem sona kadar devam edecek."
   ]
  },
  {
   "cell_type": "code",
   "execution_count": 20,
   "metadata": {
    "id": "4MZtFkfTd8KY"
   },
   "outputs": [],
   "source": [
    "#help(TimeseriesGenerator)"
   ]
  },
  {
   "cell_type": "code",
   "execution_count": 21,
   "metadata": {
    "id": "ghB-0PKwd8KY"
   },
   "outputs": [],
   "source": [
    "# define generator\n",
    "length = 2 # Length of the output sequences (in number of timesteps)\n",
    "batch_size = 1 # Number of timeseries samples in each batch\n",
    "stride = 1 # Period between successive output sequences\n",
    "generator = TimeseriesGenerator(data = train_scaled,                   # train datasi\n",
    "                                targets = train_scaled,                \n",
    "                                length = length,\n",
    "                                batch_size = batch_size,\n",
    "                                stride = stride)"
   ]
  },
  {
   "cell_type": "code",
   "execution_count": 22,
   "metadata": {
    "colab": {
     "base_uri": "https://localhost:8080/"
    },
    "id": "DXdqTWoDd8KY",
    "outputId": "1e1bf613-566c-4084-e5fd-35c51b951f8a"
   },
   "outputs": [
    {
     "data": {
      "text/plain": [
       "426"
      ]
     },
     "execution_count": 22,
     "metadata": {},
     "output_type": "execute_result"
    }
   ],
   "source": [
    "len(train_scaled)"
   ]
  },
  {
   "cell_type": "markdown",
   "metadata": {
    "id": "Hx5zsfPtd8KZ",
    "tags": []
   },
   "source": [
    "Scale edilmis data 426 tane olmasina ragmen Generator, 426 tane data olusturdu. __length=2__ oldugu icin datasetinin son iki degerinden sonra tahmin islemini yapacagi bir data kalmiyor. Bu yuzden son iki satiri kullanamaz. Generator sayisi;__len(generator)= (len(train)-lenght)/(batch_size*stride)__ formulu ile hesaplanir."
   ]
  },
  {
   "cell_type": "code",
   "execution_count": 23,
   "metadata": {
    "colab": {
     "base_uri": "https://localhost:8080/"
    },
    "id": "9des4wIQd8KZ",
    "outputId": "54821874-feb4-40bc-c087-7171f87b9615"
   },
   "outputs": [
    {
     "data": {
      "text/plain": [
       "424"
      ]
     },
     "execution_count": 23,
     "metadata": {},
     "output_type": "execute_result"
    }
   ],
   "source": [
    "len(generator) # = (len(train)-lenght)/(batch_size*stride) "
   ]
  },
  {
   "cell_type": "code",
   "execution_count": 24,
   "metadata": {
    "colab": {
     "base_uri": "https://localhost:8080/"
    },
    "id": "yr5whUjSd8KZ",
    "outputId": "f1a8ea26-1301-4f87-9909-72538b5d7757"
   },
   "outputs": [
    {
     "data": {
      "text/plain": [
       "<keras.preprocessing.sequence.TimeseriesGenerator at 0x7f4a3f2c8b50>"
      ]
     },
     "execution_count": 24,
     "metadata": {},
     "output_type": "execute_result"
    }
   ],
   "source": [
    "generator"
   ]
  },
  {
   "cell_type": "markdown",
   "metadata": {
    "id": "zKaqc19Ld8KZ"
   },
   "source": [
    "Generator, 0. index' te t_train ve y_train degerlerini verdi. x_train' de length uzunlugundan dolayi 2 deger var. Bu iki degere gore 3. deger tahmin edilecek :"
   ]
  },
  {
   "cell_type": "code",
   "execution_count": 25,
   "metadata": {
    "colab": {
     "base_uri": "https://localhost:8080/"
    },
    "id": "vR4r7xqTd8KZ",
    "outputId": "e79c2466-5b08-4c44-c805-a0e4eba2ef6d"
   },
   "outputs": [
    {
     "data": {
      "text/plain": [
       "(array([[[0.49999912],\n",
       "         [0.54991622]]]), array([[0.59933458]]))"
      ]
     },
     "execution_count": 25,
     "metadata": {},
     "output_type": "execute_result"
    }
   ],
   "source": [
    "generator[0]"
   ]
  },
  {
   "cell_type": "code",
   "execution_count": 26,
   "metadata": {
    "id": "bygdjHefd8KZ"
   },
   "outputs": [],
   "source": [
    "# What does the first batch look like?\n",
    "X, y = generator[0]"
   ]
  },
  {
   "cell_type": "markdown",
   "metadata": {
    "id": "Z0VmQU2Bd8Ka"
   },
   "source": [
    "Generator' i daha rahat gorebilmek icin X ve y' ye attik. Sonra yazdirdik. Verilen array' ler ve tahmin edilmesi gereken 3. satiri görüyoruz :"
   ]
  },
  {
   "cell_type": "code",
   "execution_count": 27,
   "metadata": {
    "colab": {
     "base_uri": "https://localhost:8080/"
    },
    "id": "gPs3fcyUd8Ka",
    "outputId": "10dfc47d-ff8e-430a-8c61-40d0f9854037"
   },
   "outputs": [
    {
     "name": "stdout",
     "output_type": "stream",
     "text": [
      "Given the Array: \n",
      "[[[0.49999912]\n",
      "  [0.54991622]]]\n",
      "Predict this y: \n",
      "[[0.59933458]]\n"
     ]
    }
   ],
   "source": [
    "print(f'Given the Array: \\n{X}')\n",
    "print(f'Predict this y: \\n{y}')"
   ]
  },
  {
   "cell_type": "markdown",
   "metadata": {
    "id": "RTc5o5rMd8Ka"
   },
   "source": [
    "Ilk 3 degeri asagida train_scaled datasinda da gorebiliriz :"
   ]
  },
  {
   "cell_type": "code",
   "execution_count": 28,
   "metadata": {
    "colab": {
     "base_uri": "https://localhost:8080/"
    },
    "id": "0t9OJ0JWd8Ka",
    "outputId": "8b3f43a5-5468-4e2f-af0f-65d7f507a90e",
    "scrolled": true
   },
   "outputs": [
    {
     "data": {
      "text/plain": [
       "array([[0.49999912],\n",
       "       [0.54991622],\n",
       "       [0.59933458],\n",
       "       [0.64776041],\n",
       "       [0.69470985],\n",
       "       [0.73971381],\n",
       "       [0.78232262],\n",
       "       [0.82211054],\n",
       "       [0.85868004],\n",
       "       [0.89166571]])"
      ]
     },
     "execution_count": 28,
     "metadata": {},
     "output_type": "execute_result"
    }
   ],
   "source": [
    "train_scaled[:10]"
   ]
  },
  {
   "cell_type": "markdown",
   "metadata": {
    "id": "iH4P00QEd8Ka"
   },
   "source": [
    "Asagidaki parametre degerlerini degistirdik ve önceki ile farki kiyasladik :"
   ]
  },
  {
   "cell_type": "code",
   "execution_count": 29,
   "metadata": {
    "id": "5ceF-xEvd8Ka"
   },
   "outputs": [],
   "source": [
    "# define generator\n",
    "length = 3 # Length of the output sequences (in number of timesteps)\n",
    "batch_size = 2 # Number of timeseries samples in each batch\n",
    "stride = 2 # Period between successive output sequences\n",
    "generator = TimeseriesGenerator(data = train_scaled,                   # train datasi\n",
    "                                targets = train_scaled,                 \n",
    "                                length = length,\n",
    "                                batch_size = batch_size,\n",
    "                                stride = stride)"
   ]
  },
  {
   "cell_type": "code",
   "execution_count": 30,
   "metadata": {
    "colab": {
     "base_uri": "https://localhost:8080/"
    },
    "id": "QH-k3xeEd8Ka",
    "outputId": "caa82ce0-0128-4ec4-f331-505b8609a93c"
   },
   "outputs": [
    {
     "data": {
      "text/plain": [
       "426"
      ]
     },
     "execution_count": 30,
     "metadata": {},
     "output_type": "execute_result"
    }
   ],
   "source": [
    "len(train_scaled)"
   ]
  },
  {
   "cell_type": "markdown",
   "metadata": {
    "id": "CFI1eHitd8Ka"
   },
   "source": [
    "106 tane generator üretti. (426 - 3)/(2 *2) = 106"
   ]
  },
  {
   "cell_type": "code",
   "execution_count": 31,
   "metadata": {
    "colab": {
     "base_uri": "https://localhost:8080/"
    },
    "id": "31L5qoH_d8Ka",
    "outputId": "58442fbc-fe60-4142-fbeb-91b4695a9e33"
   },
   "outputs": [
    {
     "data": {
      "text/plain": [
       "<keras.preprocessing.sequence.TimeseriesGenerator at 0x7f4a3f26b290>"
      ]
     },
     "execution_count": 31,
     "metadata": {},
     "output_type": "execute_result"
    }
   ],
   "source": [
    "generator"
   ]
  },
  {
   "cell_type": "markdown",
   "metadata": {
    "id": "utxj8Ww4d8Ka"
   },
   "source": [
    "Ilk üclüden 0.64776041 degerini sonraki üclüden ise 0.73971381 degerini tahmin edecek :"
   ]
  },
  {
   "cell_type": "code",
   "execution_count": 32,
   "metadata": {
    "colab": {
     "base_uri": "https://localhost:8080/"
    },
    "id": "BcGwDAUDd8Ka",
    "outputId": "0deb710a-fb61-416a-8af2-9ff010c71eea"
   },
   "outputs": [
    {
     "data": {
      "text/plain": [
       "(array([[[0.49999912],\n",
       "         [0.54991622],\n",
       "         [0.59933458]],\n",
       " \n",
       "        [[0.59933458],\n",
       "         [0.64776041],\n",
       "         [0.69470985]]]), array([[0.64776041],\n",
       "        [0.73971381]]))"
      ]
     },
     "execution_count": 32,
     "metadata": {},
     "output_type": "execute_result"
    }
   ],
   "source": [
    "generator[0]"
   ]
  },
  {
   "cell_type": "code",
   "execution_count": 33,
   "metadata": {
    "colab": {
     "base_uri": "https://localhost:8080/",
     "height": 54
    },
    "id": "Iy65B9ard8Ka",
    "outputId": "728a8c78-746d-473a-ffbb-8cbd483c2295"
   },
   "outputs": [
    {
     "data": {
      "image/png": "[encoded data removed]",
      "text/plain": [
       "<Figure size 432x288 with 1 Axes>"
      ]
     },
     "metadata": {
      "needs_background": "light"
     },
     "output_type": "display_data"
    }
   ],
   "source": [
    "df.plot();"
   ]
  },
  {
   "cell_type": "markdown",
   "metadata": {
    "id": "BAvAwKAbd8Kb"
   },
   "source": [
    "The more length the more training time"
   ]
  },
  {
   "cell_type": "markdown",
   "metadata": {
    "id": "hCJLgtWrd8Kb"
   },
   "source": [
    "__Length degeri nasil hesaplanmali? :__ Kendini yenileyen bir periyot elde etmemiz gerekir. Ilk degerimiz 0' dan baslamis, o zaman tekrar 0 degerine geldiginde bir periyot tamamlanmis olur. Datada 501 tane nokta var, buna dayanarak hesaplama yaparsak ilk periyodun tamamlandigi noktayi 64 olarak buluruz. 64' te bir kendini tekrar eden bir periyot var diyebiliriz. batch_size=1 secerek generator' i olusturduk :"
   ]
  },
  {
   "cell_type": "code",
   "execution_count": 34,
   "metadata": {
    "id": "JFeYgjvmd8Kb"
   },
   "outputs": [],
   "source": [
    "length = 64 # Length of the output sequences (in number of timesteps)\n",
    "batch_size = 1 # Number of timeseries samples in each batch\n",
    "generator = TimeseriesGenerator(data = train_scaled, targets = train_scaled, length = length, batch_size = batch_size)"
   ]
  },
  {
   "cell_type": "code",
   "execution_count": 35,
   "metadata": {
    "id": "r9yImA3dd8Kb"
   },
   "outputs": [],
   "source": [
    "# What does the first batch look like?\n",
    "X, y = generator[0]"
   ]
  },
  {
   "cell_type": "markdown",
   "metadata": {
    "id": "cGzr06JJd8Kb"
   },
   "source": [
    "426 - 64 = 362 tane generator olustu :"
   ]
  },
  {
   "cell_type": "code",
   "execution_count": 36,
   "metadata": {
    "colab": {
     "base_uri": "https://localhost:8080/"
    },
    "id": "5Rdbyv85d8Kb",
    "outputId": "9495b45f-94cd-42dc-a5eb-98cbb9512826"
   },
   "outputs": [
    {
     "data": {
      "text/plain": [
       "362"
      ]
     },
     "execution_count": 36,
     "metadata": {},
     "output_type": "execute_result"
    }
   ],
   "source": [
    "len(generator)"
   ]
  },
  {
   "cell_type": "markdown",
   "metadata": {
    "id": "KULEwvx7d8Kb"
   },
   "source": [
    "64 veri modele verilecek,  bunlara göre 65. sayi tahmin edilecek :"
   ]
  },
  {
   "cell_type": "code",
   "execution_count": 37,
   "metadata": {
    "colab": {
     "base_uri": "https://localhost:8080/"
    },
    "id": "oIrllicpd8Kb",
    "outputId": "f08da399-0399-437b-92c3-3cf6a2720822"
   },
   "outputs": [
    {
     "name": "stdout",
     "output_type": "stream",
     "text": [
      "Given the Array: \n",
      "[4.99999116e-01 5.49916225e-01 5.99334579e-01 6.47760405e-01\n",
      " 6.94709850e-01 7.39713809e-01 7.82322618e-01 8.22110545e-01\n",
      " 8.58680040e-01 8.91665714e-01 9.20737985e-01 9.45606372e-01\n",
      " 9.66022399e-01 9.81782075e-01 9.92727935e-01 9.98750612e-01\n",
      " 9.99789928e-01 9.95835500e-01 9.86926839e-01 9.73152957e-01\n",
      " 9.54651478e-01 9.31607263e-01 9.04250562e-01 8.72854714e-01\n",
      " 8.37733417e-01 7.99237589e-01 7.57751870e-01 7.13690771e-01\n",
      " 6.67494535e-01 6.19624741e-01 5.70559686e-01 5.20789614e-01\n",
      " 4.70811810e-01 4.21125636e-01 3.72227539e-01 3.24606094e-01\n",
      " 2.78737119e-01 2.35078919e-01 1.94067715e-01 1.56113277e-01\n",
      " 1.21594831e-01 9.08572769e-02 6.42077324e-02 4.19124713e-02\n",
      " 2.41942605e-02 1.12301346e-02 3.14962674e-03 3.34747619e-05\n",
      " 1.91281421e-03 8.76886734e-03 2.05331307e-02 3.70880598e-02\n",
      " 5.82682430e-02 8.38620552e-02 1.13613771e-01 1.47226122e-01\n",
      " 1.84363264e-01 2.24654135e-01 2.67696162e-01 3.13059283e-01\n",
      " 3.60290246e-01 4.08917133e-01 4.58454081e-01 5.08406134e-01]\n",
      "Predict this y: \n",
      "[[0.55827419]]\n"
     ]
    }
   ],
   "source": [
    "print(f'Given the Array: \\n{X.flatten()}')    # Bütün rakamlari görmek icin flatten yaptik. \n",
    "print(f'Predict this y: \\n{y}')"
   ]
  },
  {
   "cell_type": "markdown",
   "metadata": {
    "id": "z0BpFKYmd8Kb"
   },
   "source": [
    "## Modelling"
   ]
  },
  {
   "cell_type": "code",
   "execution_count": 38,
   "metadata": {
    "id": "r4hr5_jzd8Kb"
   },
   "outputs": [],
   "source": [
    "from tensorflow.keras.models import Sequential\n",
    "from tensorflow.keras.layers import Dense, SimpleRNN, LSTM"
   ]
  },
  {
   "cell_type": "code",
   "execution_count": 39,
   "metadata": {
    "id": "mU_Ed5fQd8Kb"
   },
   "outputs": [],
   "source": [
    "# We're only using one feature in our time series\n",
    "n_features = 1"
   ]
  },
  {
   "cell_type": "code",
   "execution_count": 40,
   "metadata": {
    "id": "24UoM8bpd8Kc"
   },
   "outputs": [],
   "source": [
    "seed = 42"
   ]
  },
  {
   "cell_type": "markdown",
   "metadata": {
    "id": "fZMWV2ZKd8Kc"
   },
   "source": [
    "Modele bir adet hidden layer ekledik. "
   ]
  },
  {
   "cell_type": "markdown",
   "metadata": {
    "id": "rXCRms2md8Kc"
   },
   "source": [
    "__units= 100 -->__  Hidden layer' da 100 tane nöron olsun."
   ]
  },
  {
   "cell_type": "markdown",
   "metadata": {
    "id": "AKiBPtX0d8Kc"
   },
   "source": [
    "__input_shape=(length, n_features)) -->__ Ilk eleman satir sayisi, ikinci eleman sütun sayisini verir. length=64 satir sayisi, n_features=1 sütun sayisi."
   ]
  },
  {
   "cell_type": "markdown",
   "metadata": {
    "id": "tnVYsME7d8Kc"
   },
   "source": [
    "__model.add(Dense(units = 1)) -->__ Output layer' da 1 nöron var. (Regression analizi yaptigimiz icin tek bir nöron olmali.)"
   ]
  },
  {
   "cell_type": "code",
   "execution_count": 41,
   "metadata": {
    "id": "gwn78x3Nd8Kc"
   },
   "outputs": [],
   "source": [
    "# define model\n",
    "model = Sequential()\n",
    "\n",
    "# Simple RNN layer\n",
    "model.add(SimpleRNN(units = 100, activation = \"tanh\", input_shape=(length, n_features)))\n",
    "\n",
    "# Final Prediction\n",
    "model.add(Dense(units = 1))   \n",
    "\n",
    "model.compile(optimizer='adam', loss='mse')"
   ]
  },
  {
   "cell_type": "markdown",
   "metadata": {
    "id": "LzACuz4Fd8Kc"
   },
   "source": [
    "Hidden layer' da cok fazla parametre var. ANN modeli kursaydik cok daha az parametre olurdu. (Simple RNN yerine LSTM kullansaydik, 4 gate oldugu icin 4 kat parametremiz olacakti) :"
   ]
  },
  {
   "cell_type": "code",
   "execution_count": 42,
   "metadata": {
    "colab": {
     "base_uri": "https://localhost:8080/"
    },
    "id": "JxoQtIOkd8Kc",
    "outputId": "6c58db8d-6c22-477c-82b1-ecc7d3c0c4f2",
    "scrolled": true
   },
   "outputs": [
    {
     "name": "stdout",
     "output_type": "stream",
     "text": [
      "Model: \"sequential\"\n",
      "_________________________________________________________________\n",
      " Layer (type)                Output Shape              Param #   \n",
      "=================================================================\n",
      " simple_rnn (SimpleRNN)      (None, 100)               10200     \n",
      "                                                                 \n",
      " dense (Dense)               (None, 1)                 101       \n",
      "                                                                 \n",
      "=================================================================\n",
      "Total params: 10,301\n",
      "Trainable params: 10,301\n",
      "Non-trainable params: 0\n",
      "_________________________________________________________________\n"
     ]
    }
   ],
   "source": [
    "model.summary()"
   ]
  },
  {
   "cell_type": "markdown",
   "metadata": {
    "id": "3Y7HateWd8Kc"
   },
   "source": [
    "Parametre sayisini bulmak icin formul :"
   ]
  },
  {
   "cell_type": "code",
   "execution_count": 43,
   "metadata": {
    "colab": {
     "base_uri": "https://localhost:8080/"
    },
    "id": "e53gK-cmd8Kc",
    "outputId": "41cc4f8e-c579-4fd0-f403-7e17e9a4c55c"
   },
   "outputs": [
    {
     "data": {
      "text/plain": [
       "10200"
      ]
     },
     "execution_count": 43,
     "metadata": {},
     "output_type": "execute_result"
    }
   ],
   "source": [
    "# params = 1 * ((size_of_input + 1) * size_of_output + size_of_output^2)\n",
    "1 * ((1+1)*100+(100**2))"
   ]
  },
  {
   "cell_type": "code",
   "execution_count": 44,
   "metadata": {
    "colab": {
     "base_uri": "https://localhost:8080/"
    },
    "id": "k260AJvYd8Kc",
    "outputId": "becf6863-3fd4-4fa0-9321-12d9e7e019af",
    "scrolled": true
   },
   "outputs": [
    {
     "name": "stdout",
     "output_type": "stream",
     "text": [
      "Epoch 1/5\n",
      "362/362 [==============================] - 9s 19ms/step - loss: 0.0047\n",
      "Epoch 2/5\n",
      "362/362 [==============================] - 7s 19ms/step - loss: 3.8681e-04\n",
      "Epoch 3/5\n",
      "362/362 [==============================] - 3s 10ms/step - loss: 1.4184e-04\n",
      "Epoch 4/5\n",
      "362/362 [==============================] - 3s 9ms/step - loss: 9.0954e-05\n",
      "Epoch 5/5\n",
      "362/362 [==============================] - 3s 9ms/step - loss: 0.0961\n"
     ]
    },
    {
     "data": {
      "text/plain": [
       "<keras.callbacks.History at 0x7f4a3afdb250>"
      ]
     },
     "execution_count": 44,
     "metadata": {},
     "output_type": "execute_result"
    }
   ],
   "source": [
    "model.fit_generator(generator = generator, epochs = 5)"
   ]
  },
  {
   "cell_type": "markdown",
   "metadata": {
    "id": "s27MT9_Fd8Kc"
   },
   "source": [
    "Elimizde validation datasi olmadigi icin overfit durumu var mi yok mu göremiyoruz :"
   ]
  },
  {
   "cell_type": "code",
   "execution_count": 45,
   "metadata": {
    "colab": {
     "base_uri": "https://localhost:8080/",
     "height": 268
    },
    "id": "cVNX9QsBd8Kc",
    "outputId": "531d39b8-8ce6-4598-99ca-a92cc32f2426"
   },
   "outputs": [
    {
     "data": {
      "image/png": "[encoded data removed]",
      "text/plain": [
       "<Figure size 432x288 with 1 Axes>"
      ]
     },
     "metadata": {
      "needs_background": "light"
     },
     "output_type": "display_data"
    }
   ],
   "source": [
    "loss_df = pd.DataFrame(model.history.history)\n",
    "loss_df.plot();"
   ]
  },
  {
   "cell_type": "markdown",
   "metadata": {
    "id": "9mudj5vyd8Kd"
   },
   "source": [
    "## Evaluate on Test Data"
   ]
  },
  {
   "cell_type": "markdown",
   "metadata": {
    "id": "sagThCKGd8Kd"
   },
   "source": [
    "Datayi degerlendirmek icin train datasi üzerine forecast yapmamiz gerekir. "
   ]
  },
  {
   "cell_type": "markdown",
   "metadata": {
    "id": "f02nDzkod8Kd"
   },
   "source": [
    "__length__ uzunlugumuz kac ise sondan o kadarlik datayi alacagiz ve bu verilere gore bir sonraki adimi tahmin etmeye calisacagiz. Yaptigimiz tahmini de dataya katarak sequence' i bir ileri tasiyacagiz ve bir sonraki adimi tahmin etmeye calisacagiz. Bu sekilde yeni tahminleri de sona ekleyerek sirayla sonraki adimlari tahmin ederek istedigimiz adim kadar gidecegiz. (length uzunlugu kadar forecast yapilmasi önerilir). Buradaki datamiz basit bir data oldugu icin forecast islemini uzatabiliriz."
   ]
  },
  {
   "cell_type": "code",
   "execution_count": 46,
   "metadata": {
    "id": "1dmnavBRd8Kd"
   },
   "outputs": [],
   "source": [
    "first_eval_batch = train_scaled[-length:]"
   ]
  },
  {
   "cell_type": "markdown",
   "metadata": {
    "id": "-gfhu_wEd8Kd"
   },
   "source": [
    "Datanin sonundan __length__ kadar olan veriyi aldik (Son 64 deger) :"
   ]
  },
  {
   "cell_type": "code",
   "execution_count": 47,
   "metadata": {
    "colab": {
     "base_uri": "https://localhost:8080/"
    },
    "id": "nK_LWC_md8Kd",
    "outputId": "59e4b94f-877a-4706-cad1-3bbb5893cfc3",
    "scrolled": true
   },
   "outputs": [
    {
     "data": {
      "text/plain": [
       "(64, 1)"
      ]
     },
     "execution_count": 47,
     "metadata": {},
     "output_type": "execute_result"
    }
   ],
   "source": [
    "first_eval_batch.shape"
   ]
  },
  {
   "cell_type": "markdown",
   "metadata": {
    "id": "vmN-BcE9d8Kd"
   },
   "source": [
    "Datanin shape' i (64,1) fakat modelin bekledigi shape, (1,64,1) yani 3 boyutlu."
   ]
  },
  {
   "cell_type": "code",
   "execution_count": 48,
   "metadata": {
    "colab": {
     "base_uri": "https://localhost:8080/"
    },
    "id": "WPizyn-Id8Kd",
    "outputId": "5830a859-1ee9-4712-836f-f85fe1cc37d8"
   },
   "outputs": [
    {
     "data": {
      "text/plain": [
       "(1, 64, 1)"
      ]
     },
     "execution_count": 48,
     "metadata": {},
     "output_type": "execute_result"
    }
   ],
   "source": [
    "generator[0][0].shape"
   ]
  },
  {
   "cell_type": "markdown",
   "metadata": {
    "id": "Kkhq7PnFd8Kd"
   },
   "source": [
    "Boyut degistirme icin 2 yöntem var. Ilki, basina 1 koyarak boyutu 2' den 3' e cikarma. Ikincisi ise __expand_dim__ fonksiyonu :"
   ]
  },
  {
   "cell_type": "code",
   "execution_count": 49,
   "metadata": {
    "id": "zhJMKHCVd8Kd"
   },
   "outputs": [],
   "source": [
    "first_eval_batch = first_eval_batch.reshape((1, length, n_features))\n",
    "# first_eval_batch = np.expand_dims(first_eval_batch, axis=0)"
   ]
  },
  {
   "cell_type": "code",
   "execution_count": 50,
   "metadata": {
    "colab": {
     "base_uri": "https://localhost:8080/"
    },
    "id": "Q5sNvE_jd8Kd",
    "outputId": "120bc1b5-ce28-4cea-8f0f-7191754feec9",
    "scrolled": true
   },
   "outputs": [
    {
     "data": {
      "text/plain": [
       "(1, 64, 1)"
      ]
     },
     "execution_count": 50,
     "metadata": {},
     "output_type": "execute_result"
    }
   ],
   "source": [
    "first_eval_batch.shape"
   ]
  },
  {
   "cell_type": "markdown",
   "metadata": {
    "id": "t0e77KLdd8Kd"
   },
   "source": [
    "Boyutunu modele gore uyarladigimiz datayi prediction icin verebiliriz. Model, datadaki 64 degere göre 65. degerin ne oldugunu tahmin edecek :"
   ]
  },
  {
   "cell_type": "code",
   "execution_count": 51,
   "metadata": {
    "colab": {
     "base_uri": "https://localhost:8080/"
    },
    "id": "VgoEIVPCd8Kd",
    "outputId": "f6b95807-fa66-4add-c06a-dbafcc0ec6c9"
   },
   "outputs": [
    {
     "data": {
      "text/plain": [
       "array([[0.6003226]], dtype=float32)"
      ]
     },
     "execution_count": 51,
     "metadata": {},
     "output_type": "execute_result"
    }
   ],
   "source": [
    "model.predict(first_eval_batch)"
   ]
  },
  {
   "cell_type": "markdown",
   "metadata": {
    "id": "J_Xss4IDd8Kd"
   },
   "source": [
    "Buldugumuz bu tahmini, test datasinin ilk elemani ile kiyaslayacagiz. Model gercekten bu degere yakin bir tahmin yapti. Yapilan prediction 2 boyutlu bir array :"
   ]
  },
  {
   "cell_type": "code",
   "execution_count": 52,
   "metadata": {
    "colab": {
     "base_uri": "https://localhost:8080/"
    },
    "id": "rYT-wzWed8Ke",
    "outputId": "70d4f0a6-525c-4342-e9e8-2b9b047353c3"
   },
   "outputs": [
    {
     "data": {
      "text/plain": [
       "array([0.00885189])"
      ]
     },
     "execution_count": 52,
     "metadata": {},
     "output_type": "execute_result"
    }
   ],
   "source": [
    "test_scaled[0]"
   ]
  },
  {
   "cell_type": "markdown",
   "metadata": {
    "id": "5TjmUOt2d8Ke"
   },
   "source": [
    "__ÖZETLE ;__ test_prediction isimli bos bir kume olusturduk. Bu bos kumenin icine yaptigimiz prediction' lari atacagiz. first_eval_batch degiskenine train datasinin son length uzunlugu kadar olan datayi attik, reshape ile boyutunu 2 boyuttan 3' e cikardik. Asagidaki for döngüsünün icine bunlari tanimlayacagiz : "
   ]
  },
  {
   "cell_type": "code",
   "execution_count": 53,
   "metadata": {
    "id": "twB297TLd8Ke"
   },
   "outputs": [],
   "source": [
    "test_predictions = []\n",
    "\n",
    "first_eval_batch = train_scaled[-length:]\n",
    "current_batch = first_eval_batch.reshape((1, length, n_features))"
   ]
  },
  {
   "cell_type": "code",
   "execution_count": 54,
   "metadata": {
    "colab": {
     "base_uri": "https://localhost:8080/"
    },
    "id": "qjfkJ-sXd8Ke",
    "outputId": "491f03e7-07dc-4568-bc65-8febeee78af3"
   },
   "outputs": [
    {
     "data": {
      "text/plain": [
       "(1, 64, 1)"
      ]
     },
     "execution_count": 54,
     "metadata": {},
     "output_type": "execute_result"
    }
   ],
   "source": [
    "current_batch.shape"
   ]
  },
  {
   "cell_type": "code",
   "execution_count": 55,
   "metadata": {
    "colab": {
     "base_uri": "https://localhost:8080/"
    },
    "id": "Ohx20XbPd8Ke",
    "outputId": "e55b5bce-8be2-4015-9f05-c59379fe80f0"
   },
   "outputs": [
    {
     "data": {
      "text/plain": [
       "array([[[1.27922981e-03],\n",
       "        [7.34597031e-03],\n",
       "        [1.83351382e-02],\n",
       "        [3.41369333e-02],\n",
       "        [5.45934694e-02],\n",
       "        [7.95003514e-02],\n",
       "        [1.08608718e-01],\n",
       "        [1.41627728e-01],\n",
       "        [1.78227467e-01],\n",
       "        [2.18042242e-01],\n",
       "        [2.60674236e-01],\n",
       "        [3.05697486e-01],\n",
       "        [3.52662133e-01],\n",
       "        [4.01098922e-01],\n",
       "        [4.50523890e-01],\n",
       "        [5.00443198e-01],\n",
       "        [5.50358069e-01],\n",
       "        [5.99769769e-01],\n",
       "        [6.48184595e-01],\n",
       "        [6.95118799e-01],\n",
       "        [7.40103433e-01],\n",
       "        [7.82689024e-01],\n",
       "        [8.22450070e-01],\n",
       "        [8.58989293e-01],\n",
       "        [8.91941605e-01],\n",
       "        [9.20977757e-01],\n",
       "        [9.45807630e-01],\n",
       "        [9.66183132e-01],\n",
       "        [9.81900676e-01],\n",
       "        [9.92803220e-01],\n",
       "        [9.98781828e-01],\n",
       "        [9.99776764e-01],\n",
       "        [9.95778087e-01],\n",
       "        [9.86825751e-01],\n",
       "        [9.73009203e-01],\n",
       "        [9.54466495e-01],\n",
       "        [9.31382900e-01],\n",
       "        [9.03989060e-01],\n",
       "        [8.72558686e-01],\n",
       "        [8.37405820e-01],\n",
       "        [7.98881698e-01],\n",
       "        [7.57371240e-01],\n",
       "        [7.13289205e-01],\n",
       "        [6.67076045e-01],\n",
       "        [6.19193508e-01],\n",
       "        [5.70120021e-01],\n",
       "        [5.20345908e-01],\n",
       "        [4.70368497e-01],\n",
       "        [4.20687145e-01],\n",
       "        [3.71798252e-01],\n",
       "        [3.24190300e-01],\n",
       "        [2.78338972e-01],\n",
       "        [2.34702398e-01],\n",
       "        [1.93716581e-01],\n",
       "        [1.55791039e-01],\n",
       "        [1.21304709e-01],\n",
       "        [9.06021693e-02],\n",
       "        [6.39901882e-02],\n",
       "        [4.17346643e-02],\n",
       "        [2.40579672e-02],\n",
       "        [1.11367167e-02],\n",
       "        [3.10001778e-03],\n",
       "        [2.81703720e-05],\n",
       "        [1.95186738e-03]]])"
      ]
     },
     "execution_count": 55,
     "metadata": {},
     "output_type": "execute_result"
    }
   ],
   "source": [
    "current_batch    # 64' lü data"
   ]
  },
  {
   "cell_type": "markdown",
   "metadata": {
    "id": "dS5Y6FFfd8Ke"
   },
   "source": [
    "Yukarida modelimize, 64 degere gore 65. degeri tahmin ettirmistik (0.0085). Bastaki degeri attik onun yerine buldugumuz 65. prediction degerini __np.append__ yöntemi ile son kisma ekledik :"
   ]
  },
  {
   "cell_type": "markdown",
   "metadata": {
    "id": "-mRkuwuAd8Ke"
   },
   "source": [
    "__np.append__ icine bir array, array' in altina eklenecek prediction degeri ve hangi axis' e eklenmesi gerektigi bilgisini ister. "
   ]
  },
  {
   "cell_type": "markdown",
   "metadata": {
    "id": "Z7wMJSt2d8Ke"
   },
   "source": [
    "__current_batch[:,1:,:] --->__ 1 yazdigimiz kisim satir sayisini ifade ettigimiz kisim. Bu kismi degistirerek indexi 0' dan degil, 1' den baslatmasini söylemis olduk. (En sondaki nokta sütun sayisi). Bu islemden sonra satir sayisi 63' e düstü. Sonuna yeni buldugumuz prediction degerini 3 boyutlu hale getirerek ekledik. Boylece sample sayisi yine 64' e tamamlanmis oldu."
   ]
  },
  {
   "cell_type": "code",
   "execution_count": 56,
   "metadata": {
    "colab": {
     "base_uri": "https://localhost:8080/"
    },
    "id": "Q1p4wiovd8Ke",
    "outputId": "0313ebd8-072a-4664-f70a-128153253736"
   },
   "outputs": [
    {
     "data": {
      "text/plain": [
       "array([[[7.34597031e-03],\n",
       "        [1.83351382e-02],\n",
       "        [3.41369333e-02],\n",
       "        [5.45934694e-02],\n",
       "        [7.95003514e-02],\n",
       "        [1.08608718e-01],\n",
       "        [1.41627728e-01],\n",
       "        [1.78227467e-01],\n",
       "        [2.18042242e-01],\n",
       "        [2.60674236e-01],\n",
       "        [3.05697486e-01],\n",
       "        [3.52662133e-01],\n",
       "        [4.01098922e-01],\n",
       "        [4.50523890e-01],\n",
       "        [5.00443198e-01],\n",
       "        [5.50358069e-01],\n",
       "        [5.99769769e-01],\n",
       "        [6.48184595e-01],\n",
       "        [6.95118799e-01],\n",
       "        [7.40103433e-01],\n",
       "        [7.82689024e-01],\n",
       "        [8.22450070e-01],\n",
       "        [8.58989293e-01],\n",
       "        [8.91941605e-01],\n",
       "        [9.20977757e-01],\n",
       "        [9.45807630e-01],\n",
       "        [9.66183132e-01],\n",
       "        [9.81900676e-01],\n",
       "        [9.92803220e-01],\n",
       "        [9.98781828e-01],\n",
       "        [9.99776764e-01],\n",
       "        [9.95778087e-01],\n",
       "        [9.86825751e-01],\n",
       "        [9.73009203e-01],\n",
       "        [9.54466495e-01],\n",
       "        [9.31382900e-01],\n",
       "        [9.03989060e-01],\n",
       "        [8.72558686e-01],\n",
       "        [8.37405820e-01],\n",
       "        [7.98881698e-01],\n",
       "        [7.57371240e-01],\n",
       "        [7.13289205e-01],\n",
       "        [6.67076045e-01],\n",
       "        [6.19193508e-01],\n",
       "        [5.70120021e-01],\n",
       "        [5.20345908e-01],\n",
       "        [4.70368497e-01],\n",
       "        [4.20687145e-01],\n",
       "        [3.71798252e-01],\n",
       "        [3.24190300e-01],\n",
       "        [2.78338972e-01],\n",
       "        [2.34702398e-01],\n",
       "        [1.93716581e-01],\n",
       "        [1.55791039e-01],\n",
       "        [1.21304709e-01],\n",
       "        [9.06021693e-02],\n",
       "        [6.39901882e-02],\n",
       "        [4.17346643e-02],\n",
       "        [2.40579672e-02],\n",
       "        [1.11367167e-02],\n",
       "        [3.10001778e-03],\n",
       "        [2.81703720e-05],\n",
       "        [1.95186738e-03],\n",
       "        [8.50000000e-03]]])"
      ]
     },
     "execution_count": 56,
     "metadata": {},
     "output_type": "execute_result"
    }
   ],
   "source": [
    "np.append(current_batch[:,1:,:], [[[0.0085]]], axis = 1)"
   ]
  },
  {
   "cell_type": "markdown",
   "metadata": {
    "id": "JZAce_ypd8Kf"
   },
   "source": [
    "### Final For Loop to predict step by step "
   ]
  },
  {
   "cell_type": "markdown",
   "metadata": {
    "id": "cuQ8RLV9d8Kf"
   },
   "source": [
    "Yukarida yaptigimiz islemin aynisini for döngüsü ile 75 test datasi boyunca yapacagiz. Yukarida yazdigimiz kodlarin aynisini for döngüsü icine tanimladik. Test datasinin uzunlugu boyunca her islemde prediction yapacak ve yaptigi prediction' i tanimlanan bos liste icine atacak. Son olarak current_batch' i güncelleyerek her seferinde gelen yeni tahmini ekleyip bastan bir sample cikaracak. Burdan cikan forecast sonuclarini daha sonra test datasi ile kiyaslayacagiz :"
   ]
  },
  {
   "cell_type": "code",
   "execution_count": 57,
   "metadata": {
    "id": "EgZfMoWEd8Kf"
   },
   "outputs": [],
   "source": [
    "predictions_scaled = []\n",
    "\n",
    "first_eval_batch = train_scaled[-length:]\n",
    "current_batch = first_eval_batch.reshape((1, length, n_features))\n",
    "\n",
    "for i in range(len(test)):\n",
    "    \n",
    "    # get prediction 1 time stamp ahead\n",
    "    current_pred = model.predict(current_batch)\n",
    "    \n",
    "    # store prediction\n",
    "    predictions_scaled.append(current_pred[0]) \n",
    "    \n",
    "    # update batch to now include prediction and drop first value\n",
    "    current_batch = np.append(current_batch[:, 1:, :], [current_pred], axis = 1)"
   ]
  },
  {
   "cell_type": "markdown",
   "metadata": {
    "id": "qkqLi8BYd8Kf"
   },
   "source": [
    "Forecast isleminde yapilan prediction' lar :"
   ]
  },
  {
   "cell_type": "code",
   "execution_count": 58,
   "metadata": {
    "colab": {
     "base_uri": "https://localhost:8080/"
    },
    "id": "7-VLWR1sd8Kf",
    "outputId": "b9688bf9-0b1a-4424-dfdf-3dd7b865e094",
    "scrolled": true
   },
   "outputs": [
    {
     "data": {
      "text/plain": [
       "[array([0.6003226], dtype=float32),\n",
       " array([0.7198344], dtype=float32),\n",
       " array([0.7597366], dtype=float32),\n",
       " array([0.76583517], dtype=float32),\n",
       " array([0.7665895], dtype=float32),\n",
       " array([0.7666304], dtype=float32),\n",
       " array([0.76670283], dtype=float32),\n",
       " array([0.76672703], dtype=float32),\n",
       " array([0.76674235], dtype=float32),\n",
       " array([0.76674736], dtype=float32),\n",
       " array([0.7667497], dtype=float32),\n",
       " array([0.7667501], dtype=float32),\n",
       " array([0.76675045], dtype=float32),\n",
       " array([0.76675045], dtype=float32),\n",
       " array([0.7667507], dtype=float32),\n",
       " array([0.7667506], dtype=float32),\n",
       " array([0.76675034], dtype=float32),\n",
       " array([0.76675045], dtype=float32),\n",
       " array([0.7667506], dtype=float32),\n",
       " array([0.76675045], dtype=float32),\n",
       " array([0.7667507], dtype=float32),\n",
       " array([0.76675034], dtype=float32),\n",
       " array([0.7667507], dtype=float32),\n",
       " array([0.76675045], dtype=float32),\n",
       " array([0.76675045], dtype=float32),\n",
       " array([0.76675045], dtype=float32),\n",
       " array([0.76675045], dtype=float32),\n",
       " array([0.7667506], dtype=float32),\n",
       " array([0.7667506], dtype=float32),\n",
       " array([0.7667508], dtype=float32),\n",
       " array([0.76675045], dtype=float32),\n",
       " array([0.7667506], dtype=float32),\n",
       " array([0.76675045], dtype=float32),\n",
       " array([0.76675034], dtype=float32),\n",
       " array([0.7667508], dtype=float32),\n",
       " array([0.7667509], dtype=float32),\n",
       " array([0.7667507], dtype=float32),\n",
       " array([0.7667507], dtype=float32),\n",
       " array([0.7667507], dtype=float32),\n",
       " array([0.7667507], dtype=float32),\n",
       " array([0.7667506], dtype=float32),\n",
       " array([0.7667506], dtype=float32),\n",
       " array([0.76675034], dtype=float32),\n",
       " array([0.76675045], dtype=float32),\n",
       " array([0.7667506], dtype=float32),\n",
       " array([0.76675045], dtype=float32),\n",
       " array([0.7667506], dtype=float32),\n",
       " array([0.7667507], dtype=float32),\n",
       " array([0.7667506], dtype=float32),\n",
       " array([0.7667507], dtype=float32),\n",
       " array([0.7667507], dtype=float32),\n",
       " array([0.7667507], dtype=float32),\n",
       " array([0.7667506], dtype=float32),\n",
       " array([0.76675034], dtype=float32),\n",
       " array([0.7667506], dtype=float32),\n",
       " array([0.7667506], dtype=float32),\n",
       " array([0.7667507], dtype=float32),\n",
       " array([0.7667507], dtype=float32),\n",
       " array([0.7667506], dtype=float32),\n",
       " array([0.7667506], dtype=float32),\n",
       " array([0.76675045], dtype=float32),\n",
       " array([0.7667508], dtype=float32),\n",
       " array([0.76675045], dtype=float32),\n",
       " array([0.76675045], dtype=float32),\n",
       " array([0.7667508], dtype=float32),\n",
       " array([0.7667506], dtype=float32),\n",
       " array([0.7667506], dtype=float32),\n",
       " array([0.76675034], dtype=float32),\n",
       " array([0.76675034], dtype=float32),\n",
       " array([0.76675034], dtype=float32),\n",
       " array([0.7667506], dtype=float32),\n",
       " array([0.76675034], dtype=float32),\n",
       " array([0.76675045], dtype=float32),\n",
       " array([0.76675045], dtype=float32),\n",
       " array([0.7667507], dtype=float32)]"
      ]
     },
     "execution_count": 58,
     "metadata": {},
     "output_type": "execute_result"
    }
   ],
   "source": [
    "predictions_scaled"
   ]
  },
  {
   "cell_type": "markdown",
   "metadata": {
    "id": "sQgky8LGd8Kf"
   },
   "source": [
    "Test datasindaki gercek degerler :"
   ]
  },
  {
   "cell_type": "code",
   "execution_count": 59,
   "metadata": {
    "colab": {
     "base_uri": "https://localhost:8080/"
    },
    "id": "s2B9r2OUd8Kf",
    "outputId": "d8b63d53-2e51-4d31-c9dd-a6985e259cc2",
    "scrolled": true
   },
   "outputs": [
    {
     "data": {
      "text/plain": [
       "array([[8.85188786e-03],\n",
       "       [2.06592891e-02],\n",
       "       [3.72560954e-02],\n",
       "       [5.84764771e-02],\n",
       "       [8.41084070e-02],\n",
       "       [1.13895779e-01],\n",
       "       [1.47540969e-01],\n",
       "       [1.84707803e-01],\n",
       "       [2.25024924e-01],\n",
       "       [2.68089497e-01],\n",
       "       [3.13471233e-01],\n",
       "       [3.60716695e-01],\n",
       "       [4.09353821e-01],\n",
       "       [4.58896644e-01],\n",
       "       [5.08850150e-01],\n",
       "       [5.58715219e-01],\n",
       "       [6.07993616e-01],\n",
       "       [6.56192968e-01],\n",
       "       [7.02831682e-01],\n",
       "       [7.47443761e-01],\n",
       "       [7.89583454e-01],\n",
       "       [8.28829716e-01],\n",
       "       [8.64790412e-01],\n",
       "       [8.97106234e-01],\n",
       "       [9.25454293e-01],\n",
       "       [9.49551344e-01],\n",
       "       [9.69156618e-01],\n",
       "       [9.84074225e-01],\n",
       "       [9.94155114e-01],\n",
       "       [9.99298559e-01],\n",
       "       [9.99453170e-01],\n",
       "       [9.94617400e-01],\n",
       "       [9.84839568e-01],\n",
       "       [9.70217371e-01],\n",
       "       [9.50896908e-01],\n",
       "       [9.27071224e-01],\n",
       "       [8.98978376e-01],\n",
       "       [8.66899060e-01],\n",
       "       [8.31153800e-01],\n",
       "       [7.92099752e-01],\n",
       "       [7.50127132e-01],\n",
       "       [7.05655314e-01],\n",
       "       [6.59128649e-01],\n",
       "       [6.11012013e-01],\n",
       "       [5.61786173e-01],\n",
       "       [5.11942978e-01],\n",
       "       [4.61980443e-01],\n",
       "       [4.12397778e-01],\n",
       "       [3.63690397e-01],\n",
       "       [3.16344967e-01],\n",
       "       [2.70834550e-01],\n",
       "       [2.27613868e-01],\n",
       "       [1.87114770e-01],\n",
       "       [1.49741909e-01],\n",
       "       [1.15868702e-01],\n",
       "       [8.58335998e-02],\n",
       "       [5.99367021e-02],\n",
       "       [3.84367625e-02],\n",
       "       [2.15486014e-02],\n",
       "       [9.44095974e-03],\n",
       "       [2.23481297e-03],\n",
       "       [2.16257798e-06],\n",
       "       [2.76531647e-03],\n",
       "       [1.04966661e-02],\n",
       "       [2.31189624e-02],\n",
       "       [4.05060876e-02],\n",
       "       [6.24843152e-02],\n",
       "       [8.88340461e-02],\n",
       "       [1.19292002e-01],\n",
       "       [1.53553858e-01],\n",
       "       [1.91277281e-01],\n",
       "       [2.32085350e-01],\n",
       "       [2.75570325e-01],\n",
       "       [3.21297718e-01],\n",
       "       [3.68810636e-01]])"
      ]
     },
     "execution_count": 59,
     "metadata": {},
     "output_type": "execute_result"
    }
   ],
   "source": [
    "test_scaled"
   ]
  },
  {
   "cell_type": "markdown",
   "metadata": {
    "id": "WiG6s0tmd8Kf"
   },
   "source": [
    "## Inverse Transformations and Comparing"
   ]
  },
  {
   "cell_type": "markdown",
   "metadata": {
    "id": "eJ812Jipd8Kf"
   },
   "source": [
    "Gercek degerler ile prediction' lari kiyaslamadan once prediction degerlerini __inverse_transform__ ile gercek degerlere donusturduk ki kiyaslama yapabilelim :"
   ]
  },
  {
   "cell_type": "code",
   "execution_count": 60,
   "metadata": {
    "id": "0jDEldbRd8Kf"
   },
   "outputs": [],
   "source": [
    "predictions = scaler.inverse_transform(predictions_scaled)"
   ]
  },
  {
   "cell_type": "code",
   "execution_count": 61,
   "metadata": {
    "colab": {
     "base_uri": "https://localhost:8080/"
    },
    "id": "pueM6WjQd8Kf",
    "outputId": "4a7d05f9-cb6b-4d27-e304-f812da163c73",
    "scrolled": true
   },
   "outputs": [
    {
     "data": {
      "text/plain": [
       "array([[0.20064537],\n",
       "       [0.43966701],\n",
       "       [0.51947079],\n",
       "       [0.53166783],\n",
       "       [0.53317653],\n",
       "       [0.53325831],\n",
       "       [0.53340315],\n",
       "       [0.53345155],\n",
       "       [0.53348218],\n",
       "       [0.5334922 ],\n",
       "       [0.53349685],\n",
       "       [0.53349768],\n",
       "       [0.5334984 ],\n",
       "       [0.5334984 ],\n",
       "       [0.53349887],\n",
       "       [0.53349863],\n",
       "       [0.53349816],\n",
       "       [0.5334984 ],\n",
       "       [0.53349863],\n",
       "       [0.5334984 ],\n",
       "       [0.53349887],\n",
       "       [0.53349816],\n",
       "       [0.53349887],\n",
       "       [0.5334984 ],\n",
       "       [0.5334984 ],\n",
       "       [0.5334984 ],\n",
       "       [0.5334984 ],\n",
       "       [0.53349863],\n",
       "       [0.53349863],\n",
       "       [0.53349911],\n",
       "       [0.5334984 ],\n",
       "       [0.53349863],\n",
       "       [0.5334984 ],\n",
       "       [0.53349816],\n",
       "       [0.53349911],\n",
       "       [0.53349923],\n",
       "       [0.53349887],\n",
       "       [0.53349887],\n",
       "       [0.53349887],\n",
       "       [0.53349887],\n",
       "       [0.53349863],\n",
       "       [0.53349863],\n",
       "       [0.53349816],\n",
       "       [0.5334984 ],\n",
       "       [0.53349863],\n",
       "       [0.5334984 ],\n",
       "       [0.53349863],\n",
       "       [0.53349887],\n",
       "       [0.53349863],\n",
       "       [0.53349887],\n",
       "       [0.53349887],\n",
       "       [0.53349887],\n",
       "       [0.53349863],\n",
       "       [0.53349816],\n",
       "       [0.53349863],\n",
       "       [0.53349863],\n",
       "       [0.53349887],\n",
       "       [0.53349887],\n",
       "       [0.53349863],\n",
       "       [0.53349863],\n",
       "       [0.5334984 ],\n",
       "       [0.53349911],\n",
       "       [0.5334984 ],\n",
       "       [0.5334984 ],\n",
       "       [0.53349911],\n",
       "       [0.53349863],\n",
       "       [0.53349863],\n",
       "       [0.53349816],\n",
       "       [0.53349816],\n",
       "       [0.53349816],\n",
       "       [0.53349863],\n",
       "       [0.53349816],\n",
       "       [0.5334984 ],\n",
       "       [0.5334984 ],\n",
       "       [0.53349887]])"
      ]
     },
     "execution_count": 61,
     "metadata": {},
     "output_type": "execute_result"
    }
   ],
   "source": [
    "predictions"
   ]
  },
  {
   "cell_type": "code",
   "execution_count": 62,
   "metadata": {
    "colab": {
     "base_uri": "https://localhost:8080/",
     "height": 419
    },
    "id": "888wFR3ed8Kf",
    "outputId": "6a3ba597-443f-4247-87e0-b6ec407b02b1",
    "scrolled": true
   },
   "outputs": [
    {
     "data": {
      "text/html": [
       "\n",
       "  <div id=\"df-277030cc-6874-4832-aa68-6b8b853ea253\">\n",
       "    <div class=\"colab-df-container\">\n",
       "      <div>\n",
       "<style scoped>\n",
       "    .dataframe tbody tr th:only-of-type {\n",
       "        vertical-align: middle;\n",
       "    }\n",
       "\n",
       "    .dataframe tbody tr th {\n",
       "        vertical-align: top;\n",
       "    }\n",
       "\n",
       "    .dataframe thead th {\n",
       "        text-align: right;\n",
       "    }\n",
       "</style>\n",
       "<table border=\"1\" class=\"dataframe\">\n",
       "  <thead>\n",
       "    <tr style=\"text-align: right;\">\n",
       "      <th></th>\n",
       "      <th>Sine</th>\n",
       "    </tr>\n",
       "  </thead>\n",
       "  <tbody>\n",
       "    <tr>\n",
       "      <th>42.600</th>\n",
       "      <td>-0.982</td>\n",
       "    </tr>\n",
       "    <tr>\n",
       "      <th>42.700</th>\n",
       "      <td>-0.959</td>\n",
       "    </tr>\n",
       "    <tr>\n",
       "      <th>42.800</th>\n",
       "      <td>-0.925</td>\n",
       "    </tr>\n",
       "    <tr>\n",
       "      <th>42.900</th>\n",
       "      <td>-0.883</td>\n",
       "    </tr>\n",
       "    <tr>\n",
       "      <th>43.000</th>\n",
       "      <td>-0.832</td>\n",
       "    </tr>\n",
       "    <tr>\n",
       "      <th>...</th>\n",
       "      <td>...</td>\n",
       "    </tr>\n",
       "    <tr>\n",
       "      <th>49.600</th>\n",
       "      <td>-0.617</td>\n",
       "    </tr>\n",
       "    <tr>\n",
       "      <th>49.700</th>\n",
       "      <td>-0.536</td>\n",
       "    </tr>\n",
       "    <tr>\n",
       "      <th>49.800</th>\n",
       "      <td>-0.449</td>\n",
       "    </tr>\n",
       "    <tr>\n",
       "      <th>49.900</th>\n",
       "      <td>-0.357</td>\n",
       "    </tr>\n",
       "    <tr>\n",
       "      <th>50.000</th>\n",
       "      <td>-0.262</td>\n",
       "    </tr>\n",
       "  </tbody>\n",
       "</table>\n",
       "<p>75 rows × 1 columns</p>\n",
       "</div>\n",
       "      <button class=\"colab-df-convert\" onclick=\"convertToInteractive('df-277030cc-6874-4832-aa68-6b8b853ea253')\"\n",
       "              title=\"Convert this dataframe to an interactive table.\"\n",
       "              style=\"display:none;\">\n",
       "        \n",
       "  <svg xmlns=\"http://www.w3.org/2000/svg\" height=\"24px\"viewBox=\"0 0 24 24\"\n",
       "       width=\"24px\">\n",
       "    <path d=\"M0 0h24v24H0V0z\" fill=\"none\"/>\n",
       "    <path d=\"M18.56 5.44l.94 2.06.94-2.06 2.06-.94-2.06-.94-.94-2.06-.94 2.06-2.06.94zm-11 1L8.5 8.5l.94-2.06 2.06-.94-2.06-.94L8.5 2.5l-.94 2.06-2.06.94zm10 10l.94 2.06.94-2.06 2.06-.94-2.06-.94-.94-2.06-.94 2.06-2.06.94z\"/><path d=\"M17.41 7.96l-1.37-1.37c-.4-.4-.92-.59-1.43-.59-.52 0-1.04.2-1.43.59L10.3 9.45l-7.72 7.72c-.78.78-.78 2.05 0 2.83L4 21.41c.39.39.9.59 1.41.59.51 0 1.02-.2 1.41-.59l7.78-7.78 2.81-2.81c.8-.78.8-2.07 0-2.86zM5.41 20L4 18.59l7.72-7.72 1.47 1.35L5.41 20z\"/>\n",
       "  </svg>\n",
       "      </button>\n",
       "      \n",
       "  <style>\n",
       "    .colab-df-container {\n",
       "      display:flex;\n",
       "      flex-wrap:wrap;\n",
       "      gap: 12px;\n",
       "    }\n",
       "\n",
       "    .colab-df-convert {\n",
       "      background-color: #E8F0FE;\n",
       "      border: none;\n",
       "      border-radius: 50%;\n",
       "      cursor: pointer;\n",
       "      display: none;\n",
       "      fill: #1967D2;\n",
       "      height: 32px;\n",
       "      padding: 0 0 0 0;\n",
       "      width: 32px;\n",
       "    }\n",
       "\n",
       "    .colab-df-convert:hover {\n",
       "      background-color: #E2EBFA;\n",
       "      box-shadow: 0px 1px 2px rgba(60, 64, 67, 0.3), 0px 1px 3px 1px rgba(60, 64, 67, 0.15);\n",
       "      fill: #174EA6;\n",
       "    }\n",
       "\n",
       "    [theme=dark] .colab-df-convert {\n",
       "      background-color: #3B4455;\n",
       "      fill: #D2E3FC;\n",
       "    }\n",
       "\n",
       "    [theme=dark] .colab-df-convert:hover {\n",
       "      background-color: #434B5C;\n",
       "      box-shadow: 0px 1px 3px 1px rgba(0, 0, 0, 0.15);\n",
       "      filter: drop-shadow(0px 1px 2px rgba(0, 0, 0, 0.3));\n",
       "      fill: #FFFFFF;\n",
       "    }\n",
       "  </style>\n",
       "\n",
       "      <script>\n",
       "        const buttonEl =\n",
       "          document.querySelector('#df-277030cc-6874-4832-aa68-6b8b853ea253 button.colab-df-convert');\n",
       "        buttonEl.style.display =\n",
       "          google.colab.kernel.accessAllowed ? 'block' : 'none';\n",
       "\n",
       "        async function convertToInteractive(key) {\n",
       "          const element = document.querySelector('#df-277030cc-6874-4832-aa68-6b8b853ea253');\n",
       "          const dataTable =\n",
       "            await google.colab.kernel.invokeFunction('convertToInteractive',\n",
       "                                                     [key], {});\n",
       "          if (!dataTable) return;\n",
       "\n",
       "          const docLinkHtml = 'Like what you see? Visit the ' +\n",
       "            '<a target=\"_blank\" href=https://colab.research.google.com/notebooks/data_table.ipynb>data table notebook</a>'\n",
       "            + ' to learn more about interactive tables.';\n",
       "          element.innerHTML = '';\n",
       "          dataTable['output_type'] = 'display_data';\n",
       "          await google.colab.output.renderOutput(dataTable, element);\n",
       "          const docLink = document.createElement('div');\n",
       "          docLink.innerHTML = docLinkHtml;\n",
       "          element.appendChild(docLink);\n",
       "        }\n",
       "      </script>\n",
       "    </div>\n",
       "  </div>\n",
       "  "
      ],
      "text/plain": [
       "         Sine\n",
       "42.600 -0.982\n",
       "42.700 -0.959\n",
       "42.800 -0.925\n",
       "42.900 -0.883\n",
       "43.000 -0.832\n",
       "...       ...\n",
       "49.600 -0.617\n",
       "49.700 -0.536\n",
       "49.800 -0.449\n",
       "49.900 -0.357\n",
       "50.000 -0.262\n",
       "\n",
       "[75 rows x 1 columns]"
      ]
     },
     "execution_count": 62,
     "metadata": {},
     "output_type": "execute_result"
    }
   ],
   "source": [
    "test"
   ]
  },
  {
   "cell_type": "markdown",
   "metadata": {
    "id": "YF_GPQ-Qd8Kf"
   },
   "source": [
    "Test datasina predictions' lari yeni bir sütun olarak ekledik :"
   ]
  },
  {
   "cell_type": "code",
   "execution_count": 63,
   "metadata": {
    "id": "hpBFs9Q4d8Kf"
   },
   "outputs": [],
   "source": [
    "test['RNN_Predictions'] = predictions"
   ]
  },
  {
   "cell_type": "code",
   "execution_count": 64,
   "metadata": {
    "colab": {
     "base_uri": "https://localhost:8080/",
     "height": 419
    },
    "id": "LGh5Vf0Rd8Kf",
    "outputId": "79ab8b3b-4881-4f01-adb7-e4d45dc5c1ca",
    "scrolled": true
   },
   "outputs": [
    {
     "data": {
      "text/html": [
       "\n",
       "  <div id=\"df-c49382ac-95dd-4989-966e-3e839e43cdbb\">\n",
       "    <div class=\"colab-df-container\">\n",
       "      <div>\n",
       "<style scoped>\n",
       "    .dataframe tbody tr th:only-of-type {\n",
       "        vertical-align: middle;\n",
       "    }\n",
       "\n",
       "    .dataframe tbody tr th {\n",
       "        vertical-align: top;\n",
       "    }\n",
       "\n",
       "    .dataframe thead th {\n",
       "        text-align: right;\n",
       "    }\n",
       "</style>\n",
       "<table border=\"1\" class=\"dataframe\">\n",
       "  <thead>\n",
       "    <tr style=\"text-align: right;\">\n",
       "      <th></th>\n",
       "      <th>Sine</th>\n",
       "      <th>RNN_Predictions</th>\n",
       "    </tr>\n",
       "  </thead>\n",
       "  <tbody>\n",
       "    <tr>\n",
       "      <th>42.600</th>\n",
       "      <td>-0.982</td>\n",
       "      <td>0.201</td>\n",
       "    </tr>\n",
       "    <tr>\n",
       "      <th>42.700</th>\n",
       "      <td>-0.959</td>\n",
       "      <td>0.440</td>\n",
       "    </tr>\n",
       "    <tr>\n",
       "      <th>42.800</th>\n",
       "      <td>-0.925</td>\n",
       "      <td>0.519</td>\n",
       "    </tr>\n",
       "    <tr>\n",
       "      <th>42.900</th>\n",
       "      <td>-0.883</td>\n",
       "      <td>0.532</td>\n",
       "    </tr>\n",
       "    <tr>\n",
       "      <th>43.000</th>\n",
       "      <td>-0.832</td>\n",
       "      <td>0.533</td>\n",
       "    </tr>\n",
       "    <tr>\n",
       "      <th>...</th>\n",
       "      <td>...</td>\n",
       "      <td>...</td>\n",
       "    </tr>\n",
       "    <tr>\n",
       "      <th>49.600</th>\n",
       "      <td>-0.617</td>\n",
       "      <td>0.533</td>\n",
       "    </tr>\n",
       "    <tr>\n",
       "      <th>49.700</th>\n",
       "      <td>-0.536</td>\n",
       "      <td>0.533</td>\n",
       "    </tr>\n",
       "    <tr>\n",
       "      <th>49.800</th>\n",
       "      <td>-0.449</td>\n",
       "      <td>0.533</td>\n",
       "    </tr>\n",
       "    <tr>\n",
       "      <th>49.900</th>\n",
       "      <td>-0.357</td>\n",
       "      <td>0.533</td>\n",
       "    </tr>\n",
       "    <tr>\n",
       "      <th>50.000</th>\n",
       "      <td>-0.262</td>\n",
       "      <td>0.533</td>\n",
       "    </tr>\n",
       "  </tbody>\n",
       "</table>\n",
       "<p>75 rows × 2 columns</p>\n",
       "</div>\n",
       "      <button class=\"colab-df-convert\" onclick=\"convertToInteractive('df-c49382ac-95dd-4989-966e-3e839e43cdbb')\"\n",
       "              title=\"Convert this dataframe to an interactive table.\"\n",
       "              style=\"display:none;\">\n",
       "        \n",
       "  <svg xmlns=\"http://www.w3.org/2000/svg\" height=\"24px\"viewBox=\"0 0 24 24\"\n",
       "       width=\"24px\">\n",
       "    <path d=\"M0 0h24v24H0V0z\" fill=\"none\"/>\n",
       "    <path d=\"M18.56 5.44l.94 2.06.94-2.06 2.06-.94-2.06-.94-.94-2.06-.94 2.06-2.06.94zm-11 1L8.5 8.5l.94-2.06 2.06-.94-2.06-.94L8.5 2.5l-.94 2.06-2.06.94zm10 10l.94 2.06.94-2.06 2.06-.94-2.06-.94-.94-2.06-.94 2.06-2.06.94z\"/><path d=\"M17.41 7.96l-1.37-1.37c-.4-.4-.92-.59-1.43-.59-.52 0-1.04.2-1.43.59L10.3 9.45l-7.72 7.72c-.78.78-.78 2.05 0 2.83L4 21.41c.39.39.9.59 1.41.59.51 0 1.02-.2 1.41-.59l7.78-7.78 2.81-2.81c.8-.78.8-2.07 0-2.86zM5.41 20L4 18.59l7.72-7.72 1.47 1.35L5.41 20z\"/>\n",
       "  </svg>\n",
       "      </button>\n",
       "      \n",
       "  <style>\n",
       "    .colab-df-container {\n",
       "      display:flex;\n",
       "      flex-wrap:wrap;\n",
       "      gap: 12px;\n",
       "    }\n",
       "\n",
       "    .colab-df-convert {\n",
       "      background-color: #E8F0FE;\n",
       "      border: none;\n",
       "      border-radius: 50%;\n",
       "      cursor: pointer;\n",
       "      display: none;\n",
       "      fill: #1967D2;\n",
       "      height: 32px;\n",
       "      padding: 0 0 0 0;\n",
       "      width: 32px;\n",
       "    }\n",
       "\n",
       "    .colab-df-convert:hover {\n",
       "      background-color: #E2EBFA;\n",
       "      box-shadow: 0px 1px 2px rgba(60, 64, 67, 0.3), 0px 1px 3px 1px rgba(60, 64, 67, 0.15);\n",
       "      fill: #174EA6;\n",
       "    }\n",
       "\n",
       "    [theme=dark] .colab-df-convert {\n",
       "      background-color: #3B4455;\n",
       "      fill: #D2E3FC;\n",
       "    }\n",
       "\n",
       "    [theme=dark] .colab-df-convert:hover {\n",
       "      background-color: #434B5C;\n",
       "      box-shadow: 0px 1px 3px 1px rgba(0, 0, 0, 0.15);\n",
       "      filter: drop-shadow(0px 1px 2px rgba(0, 0, 0, 0.3));\n",
       "      fill: #FFFFFF;\n",
       "    }\n",
       "  </style>\n",
       "\n",
       "      <script>\n",
       "        const buttonEl =\n",
       "          document.querySelector('#df-c49382ac-95dd-4989-966e-3e839e43cdbb button.colab-df-convert');\n",
       "        buttonEl.style.display =\n",
       "          google.colab.kernel.accessAllowed ? 'block' : 'none';\n",
       "\n",
       "        async function convertToInteractive(key) {\n",
       "          const element = document.querySelector('#df-c49382ac-95dd-4989-966e-3e839e43cdbb');\n",
       "          const dataTable =\n",
       "            await google.colab.kernel.invokeFunction('convertToInteractive',\n",
       "                                                     [key], {});\n",
       "          if (!dataTable) return;\n",
       "\n",
       "          const docLinkHtml = 'Like what you see? Visit the ' +\n",
       "            '<a target=\"_blank\" href=https://colab.research.google.com/notebooks/data_table.ipynb>data table notebook</a>'\n",
       "            + ' to learn more about interactive tables.';\n",
       "          element.innerHTML = '';\n",
       "          dataTable['output_type'] = 'display_data';\n",
       "          await google.colab.output.renderOutput(dataTable, element);\n",
       "          const docLink = document.createElement('div');\n",
       "          docLink.innerHTML = docLinkHtml;\n",
       "          element.appendChild(docLink);\n",
       "        }\n",
       "      </script>\n",
       "    </div>\n",
       "  </div>\n",
       "  "
      ],
      "text/plain": [
       "         Sine  RNN_Predictions\n",
       "42.600 -0.982            0.201\n",
       "42.700 -0.959            0.440\n",
       "42.800 -0.925            0.519\n",
       "42.900 -0.883            0.532\n",
       "43.000 -0.832            0.533\n",
       "...       ...              ...\n",
       "49.600 -0.617            0.533\n",
       "49.700 -0.536            0.533\n",
       "49.800 -0.449            0.533\n",
       "49.900 -0.357            0.533\n",
       "50.000 -0.262            0.533\n",
       "\n",
       "[75 rows x 2 columns]"
      ]
     },
     "execution_count": 64,
     "metadata": {},
     "output_type": "execute_result"
    }
   ],
   "source": [
    "test"
   ]
  },
  {
   "cell_type": "markdown",
   "metadata": {
    "id": "aTSN-w_cd8Kf"
   },
   "source": [
    "Gercek degerler ile prediction degerleri oldukca uyumlu :"
   ]
  },
  {
   "cell_type": "code",
   "execution_count": 65,
   "metadata": {
    "colab": {
     "base_uri": "https://localhost:8080/",
     "height": 265
    },
    "id": "izXO9dkMd8Kf",
    "outputId": "f820a207-94ca-4cdd-dadd-b680ac6007f0"
   },
   "outputs": [
    {
     "data": {
      "image/png": "[encoded data removed]",
      "text/plain": [
       "<Figure size 432x288 with 1 Axes>"
      ]
     },
     "metadata": {
      "needs_background": "light"
     },
     "output_type": "display_data"
    }
   ],
   "source": [
    "test.plot();"
   ]
  },
  {
   "cell_type": "markdown",
   "metadata": {
    "id": "mTlajK6zd8Kf"
   },
   "source": [
    "## Early Stopping and Validation Generator"
   ]
  },
  {
   "cell_type": "code",
   "execution_count": 66,
   "metadata": {
    "id": "PTw5lmlud8Kf"
   },
   "outputs": [],
   "source": [
    "from tensorflow.keras.callbacks import EarlyStopping"
   ]
  },
  {
   "cell_type": "markdown",
   "metadata": {
    "id": "_JDX_0Smd8Kf"
   },
   "source": [
    "EarlyStop eklemek icin validation_data olmasi gerekir. validation_datasini Generator islemi icin hazirlamamiz gerekecek."
   ]
  },
  {
   "cell_type": "code",
   "execution_count": 67,
   "metadata": {
    "id": "YouxKP1dd8Kg"
   },
   "outputs": [],
   "source": [
    "early_stop = EarlyStopping(monitor='val_loss', patience=2)"
   ]
  },
  {
   "cell_type": "markdown",
   "metadata": {
    "id": "AIP2GBtgd8Kg"
   },
   "source": [
    "Yukaridaki generator isleminin aynisini yaptik; ilave olarak validation_generator tanimladik fakat data ve target olarak test datasini tanimladik. Bu sekilde validation_data' sini ürettik :"
   ]
  },
  {
   "cell_type": "code",
   "execution_count": 68,
   "metadata": {
    "id": "7TJdymFVd8Kg"
   },
   "outputs": [],
   "source": [
    "length = 64 # lenght range have to be shorter than range of test data\n",
    "            # In this case lenght range = 64, test range = 75\n",
    "batch_size =1\n",
    "\n",
    "generator = TimeseriesGenerator(data = train_scaled, targets = train_scaled, length = length, batch_size = batch_size)\n",
    "\n",
    "validation_generator = TimeseriesGenerator(data = test_scaled, targets = test_scaled, length = length, batch_size = batch_size)"
   ]
  },
  {
   "cell_type": "markdown",
   "metadata": {
    "id": "lMi8Ehxhd8Kg"
   },
   "source": [
    "test range=75, length range=64 idi. validation_generator' i tanimlarken length' i 64' ten kücük bir sayi secseydik, TimeseriesGenerator bize herhangi bir sonuc üretemezdi. Bir sonuc üretebilmesi icin en az 65 olmasi gerekir ki elimizde 75 adet var. validation_generator bize 11 adet validation datasi üretmis :"
   ]
  },
  {
   "cell_type": "code",
   "execution_count": 69,
   "metadata": {
    "colab": {
     "base_uri": "https://localhost:8080/"
    },
    "id": "Jb4jQlbJd8Kg",
    "outputId": "53e6d0e1-889e-4007-82b1-f03a0db81c74"
   },
   "outputs": [
    {
     "data": {
      "text/plain": [
       "11"
      ]
     },
     "execution_count": 69,
     "metadata": {},
     "output_type": "execute_result"
    }
   ],
   "source": [
    "len(validation_generator)"
   ]
  },
  {
   "cell_type": "markdown",
   "metadata": {
    "id": "FffI-jAkd8Kg"
   },
   "source": [
    "## LSTM"
   ]
  },
  {
   "cell_type": "markdown",
   "metadata": {
    "id": "v36fseVGd8Kg"
   },
   "source": [
    "Modelimizi bu sefer LSTM ile olusturacagiz. LSTM layer' da LSTM' i belirtmemiz disinda yaptigimiz farkli bir islem yok :"
   ]
  },
  {
   "cell_type": "code",
   "execution_count": 70,
   "metadata": {
    "id": "5hrWdS2ad8Kg"
   },
   "outputs": [],
   "source": [
    "# define model\n",
    "model = Sequential()\n",
    "\n",
    "# LSTM layer\n",
    "model.add(LSTM(units = 100, activation = \"tanh\", input_shape = (length, n_features)))\n",
    "\n",
    "# Final Prediction\n",
    "model.add(Dense(units = 1))\n",
    "\n",
    "model.compile(optimizer = 'adam', loss = 'mse')"
   ]
  },
  {
   "cell_type": "markdown",
   "metadata": {
    "id": "mSeWMU1Cd8Kg"
   },
   "source": [
    "LSTM ile parametre sayimiz simple RNN' e göre 4' e katladi :"
   ]
  },
  {
   "cell_type": "code",
   "execution_count": 71,
   "metadata": {
    "colab": {
     "base_uri": "https://localhost:8080/"
    },
    "id": "c9FRUI8td8Kg",
    "outputId": "bfa3c0b5-d7d8-4275-a17b-00ef8cb88d0d"
   },
   "outputs": [
    {
     "name": "stdout",
     "output_type": "stream",
     "text": [
      "Model: \"sequential_1\"\n",
      "_________________________________________________________________\n",
      " Layer (type)                Output Shape              Param #   \n",
      "=================================================================\n",
      " lstm (LSTM)                 (None, 100)               40800     \n",
      "                                                                 \n",
      " dense_1 (Dense)             (None, 1)                 101       \n",
      "                                                                 \n",
      "=================================================================\n",
      "Total params: 40,901\n",
      "Trainable params: 40,901\n",
      "Non-trainable params: 0\n",
      "_________________________________________________________________\n"
     ]
    }
   ],
   "source": [
    "model.summary()"
   ]
  },
  {
   "cell_type": "code",
   "execution_count": 72,
   "metadata": {
    "colab": {
     "base_uri": "https://localhost:8080/"
    },
    "id": "umy7_yAOd8Kg",
    "outputId": "c025438f-3b6f-44ea-adf5-25608e400d09"
   },
   "outputs": [
    {
     "data": {
      "text/plain": [
       "40800"
      ]
     },
     "execution_count": 72,
     "metadata": {},
     "output_type": "execute_result"
    }
   ],
   "source": [
    "# params = 4 * ((size_of_input + 1) * size_of_output + size_of_output^2)\n",
    "4 * ((1+1)*100+(100**2))"
   ]
  },
  {
   "cell_type": "markdown",
   "metadata": {
    "id": "QsQAk0t3d8Kg"
   },
   "source": [
    "EarlyStop da kullanabildigimiz icin 20 epoch verdik ve modelimizi egittik :"
   ]
  },
  {
   "cell_type": "code",
   "execution_count": 73,
   "metadata": {
    "colab": {
     "base_uri": "https://localhost:8080/"
    },
    "id": "1oFIv31td8Kg",
    "outputId": "b243f809-ee23-4598-d286-dfdd8a5445d9",
    "scrolled": true
   },
   "outputs": [
    {
     "name": "stdout",
     "output_type": "stream",
     "text": [
      "Epoch 1/20\n",
      "362/362 [==============================] - 10s 24ms/step - loss: 0.0129 - val_loss: 1.5836e-05\n",
      "Epoch 2/20\n",
      "362/362 [==============================] - 8s 22ms/step - loss: 6.3551e-05 - val_loss: 1.1483e-05\n",
      "Epoch 3/20\n",
      "362/362 [==============================] - 8s 22ms/step - loss: 0.0011 - val_loss: 6.2347e-06\n",
      "Epoch 4/20\n",
      "362/362 [==============================] - 8s 22ms/step - loss: 3.2449e-05 - val_loss: 7.8412e-06\n",
      "Epoch 5/20\n",
      "362/362 [==============================] - 8s 22ms/step - loss: 4.1979e-05 - val_loss: 1.0644e-05\n"
     ]
    },
    {
     "data": {
      "text/plain": [
       "<keras.callbacks.History at 0x7f4a3f1af090>"
      ]
     },
     "execution_count": 73,
     "metadata": {},
     "output_type": "execute_result"
    }
   ],
   "source": [
    "model.fit_generator(generator = generator,\n",
    "                    validation_data = validation_generator,\n",
    "                    epochs = 20,\n",
    "                    callbacks = [early_stop])"
   ]
  },
  {
   "cell_type": "code",
   "execution_count": 74,
   "metadata": {
    "colab": {
     "base_uri": "https://localhost:8080/",
     "height": 265
    },
    "id": "2OFDFScqd8Kg",
    "outputId": "1909401e-9c35-43a6-e961-ceb03a49f4f6"
   },
   "outputs": [
    {
     "data": {
      "image/png": "[encoded data removed]",
      "text/plain": [
       "<Figure size 432x288 with 1 Axes>"
      ]
     },
     "metadata": {
      "needs_background": "light"
     },
     "output_type": "display_data"
    }
   ],
   "source": [
    "loss_df = pd.DataFrame(model.history.history)\n",
    "loss_df.plot();"
   ]
  },
  {
   "cell_type": "markdown",
   "metadata": {
    "id": "85bQZuj9d8Kg"
   },
   "source": [
    "Yukarida yaptigimiz gibi for döngüsü ile prediction' larimizi aldik :"
   ]
  },
  {
   "cell_type": "code",
   "execution_count": 75,
   "metadata": {
    "id": "ld8ZQmctd8Kg"
   },
   "outputs": [],
   "source": [
    "predictions_scaled = []\n",
    "\n",
    "first_eval_batch = train_scaled[-length:]\n",
    "current_batch = first_eval_batch.reshape((1, length, n_features))\n",
    "\n",
    "for i in range(len(test)):\n",
    "    \n",
    "    # get prediction 1 time stamp ahead \n",
    "    current_pred = model.predict(current_batch)\n",
    "    \n",
    "    # store prediction\n",
    "    predictions_scaled.append(current_pred[0]) \n",
    "    \n",
    "    # update batch to now include prediction and drop first value\n",
    "    current_batch = np.append(current_batch[:, 1:, :], [current_pred], axis = 1)"
   ]
  },
  {
   "cell_type": "markdown",
   "metadata": {
    "id": "ZmsfeOdBd8Kg"
   },
   "source": [
    "Prediction' lari gercek degerlere dönüştürdük ve buldugumuz sonuclari test datasinin sonuna ekledik :"
   ]
  },
  {
   "cell_type": "code",
   "execution_count": 76,
   "metadata": {
    "colab": {
     "base_uri": "https://localhost:8080/",
     "height": 419
    },
    "id": "oxwWzmE0d8Kg",
    "outputId": "f0aabd24-eba7-499a-8d63-e12aa220076e"
   },
   "outputs": [
    {
     "data": {
      "text/html": [
       "\n",
       "  <div id=\"df-93ce7537-63a3-4b95-90ca-ea465870b8f4\">\n",
       "    <div class=\"colab-df-container\">\n",
       "      <div>\n",
       "<style scoped>\n",
       "    .dataframe tbody tr th:only-of-type {\n",
       "        vertical-align: middle;\n",
       "    }\n",
       "\n",
       "    .dataframe tbody tr th {\n",
       "        vertical-align: top;\n",
       "    }\n",
       "\n",
       "    .dataframe thead th {\n",
       "        text-align: right;\n",
       "    }\n",
       "</style>\n",
       "<table border=\"1\" class=\"dataframe\">\n",
       "  <thead>\n",
       "    <tr style=\"text-align: right;\">\n",
       "      <th></th>\n",
       "      <th>Sine</th>\n",
       "      <th>RNN_Predictions</th>\n",
       "      <th>LSTM Predictions</th>\n",
       "    </tr>\n",
       "  </thead>\n",
       "  <tbody>\n",
       "    <tr>\n",
       "      <th>42.600</th>\n",
       "      <td>-0.982</td>\n",
       "      <td>0.201</td>\n",
       "      <td>-0.974</td>\n",
       "    </tr>\n",
       "    <tr>\n",
       "      <th>42.700</th>\n",
       "      <td>-0.959</td>\n",
       "      <td>0.440</td>\n",
       "      <td>-0.950</td>\n",
       "    </tr>\n",
       "    <tr>\n",
       "      <th>42.800</th>\n",
       "      <td>-0.925</td>\n",
       "      <td>0.519</td>\n",
       "      <td>-0.917</td>\n",
       "    </tr>\n",
       "    <tr>\n",
       "      <th>42.900</th>\n",
       "      <td>-0.883</td>\n",
       "      <td>0.532</td>\n",
       "      <td>-0.874</td>\n",
       "    </tr>\n",
       "    <tr>\n",
       "      <th>43.000</th>\n",
       "      <td>-0.832</td>\n",
       "      <td>0.533</td>\n",
       "      <td>-0.824</td>\n",
       "    </tr>\n",
       "    <tr>\n",
       "      <th>...</th>\n",
       "      <td>...</td>\n",
       "      <td>...</td>\n",
       "      <td>...</td>\n",
       "    </tr>\n",
       "    <tr>\n",
       "      <th>49.600</th>\n",
       "      <td>-0.617</td>\n",
       "      <td>0.533</td>\n",
       "      <td>-0.568</td>\n",
       "    </tr>\n",
       "    <tr>\n",
       "      <th>49.700</th>\n",
       "      <td>-0.536</td>\n",
       "      <td>0.533</td>\n",
       "      <td>-0.491</td>\n",
       "    </tr>\n",
       "    <tr>\n",
       "      <th>49.800</th>\n",
       "      <td>-0.449</td>\n",
       "      <td>0.533</td>\n",
       "      <td>-0.409</td>\n",
       "    </tr>\n",
       "    <tr>\n",
       "      <th>49.900</th>\n",
       "      <td>-0.357</td>\n",
       "      <td>0.533</td>\n",
       "      <td>-0.322</td>\n",
       "    </tr>\n",
       "    <tr>\n",
       "      <th>50.000</th>\n",
       "      <td>-0.262</td>\n",
       "      <td>0.533</td>\n",
       "      <td>-0.233</td>\n",
       "    </tr>\n",
       "  </tbody>\n",
       "</table>\n",
       "<p>75 rows × 3 columns</p>\n",
       "</div>\n",
       "      <button class=\"colab-df-convert\" onclick=\"convertToInteractive('df-93ce7537-63a3-4b95-90ca-ea465870b8f4')\"\n",
       "              title=\"Convert this dataframe to an interactive table.\"\n",
       "              style=\"display:none;\">\n",
       "        \n",
       "  <svg xmlns=\"http://www.w3.org/2000/svg\" height=\"24px\"viewBox=\"0 0 24 24\"\n",
       "       width=\"24px\">\n",
       "    <path d=\"M0 0h24v24H0V0z\" fill=\"none\"/>\n",
       "    <path d=\"M18.56 5.44l.94 2.06.94-2.06 2.06-.94-2.06-.94-.94-2.06-.94 2.06-2.06.94zm-11 1L8.5 8.5l.94-2.06 2.06-.94-2.06-.94L8.5 2.5l-.94 2.06-2.06.94zm10 10l.94 2.06.94-2.06 2.06-.94-2.06-.94-.94-2.06-.94 2.06-2.06.94z\"/><path d=\"M17.41 7.96l-1.37-1.37c-.4-.4-.92-.59-1.43-.59-.52 0-1.04.2-1.43.59L10.3 9.45l-7.72 7.72c-.78.78-.78 2.05 0 2.83L4 21.41c.39.39.9.59 1.41.59.51 0 1.02-.2 1.41-.59l7.78-7.78 2.81-2.81c.8-.78.8-2.07 0-2.86zM5.41 20L4 18.59l7.72-7.72 1.47 1.35L5.41 20z\"/>\n",
       "  </svg>\n",
       "      </button>\n",
       "      \n",
       "  <style>\n",
       "    .colab-df-container {\n",
       "      display:flex;\n",
       "      flex-wrap:wrap;\n",
       "      gap: 12px;\n",
       "    }\n",
       "\n",
       "    .colab-df-convert {\n",
       "      background-color: #E8F0FE;\n",
       "      border: none;\n",
       "      border-radius: 50%;\n",
       "      cursor: pointer;\n",
       "      display: none;\n",
       "      fill: #1967D2;\n",
       "      height: 32px;\n",
       "      padding: 0 0 0 0;\n",
       "      width: 32px;\n",
       "    }\n",
       "\n",
       "    .colab-df-convert:hover {\n",
       "      background-color: #E2EBFA;\n",
       "      box-shadow: 0px 1px 2px rgba(60, 64, 67, 0.3), 0px 1px 3px 1px rgba(60, 64, 67, 0.15);\n",
       "      fill: #174EA6;\n",
       "    }\n",
       "\n",
       "    [theme=dark] .colab-df-convert {\n",
       "      background-color: #3B4455;\n",
       "      fill: #D2E3FC;\n",
       "    }\n",
       "\n",
       "    [theme=dark] .colab-df-convert:hover {\n",
       "      background-color: #434B5C;\n",
       "      box-shadow: 0px 1px 3px 1px rgba(0, 0, 0, 0.15);\n",
       "      filter: drop-shadow(0px 1px 2px rgba(0, 0, 0, 0.3));\n",
       "      fill: #FFFFFF;\n",
       "    }\n",
       "  </style>\n",
       "\n",
       "      <script>\n",
       "        const buttonEl =\n",
       "          document.querySelector('#df-93ce7537-63a3-4b95-90ca-ea465870b8f4 button.colab-df-convert');\n",
       "        buttonEl.style.display =\n",
       "          google.colab.kernel.accessAllowed ? 'block' : 'none';\n",
       "\n",
       "        async function convertToInteractive(key) {\n",
       "          const element = document.querySelector('#df-93ce7537-63a3-4b95-90ca-ea465870b8f4');\n",
       "          const dataTable =\n",
       "            await google.colab.kernel.invokeFunction('convertToInteractive',\n",
       "                                                     [key], {});\n",
       "          if (!dataTable) return;\n",
       "\n",
       "          const docLinkHtml = 'Like what you see? Visit the ' +\n",
       "            '<a target=\"_blank\" href=https://colab.research.google.com/notebooks/data_table.ipynb>data table notebook</a>'\n",
       "            + ' to learn more about interactive tables.';\n",
       "          element.innerHTML = '';\n",
       "          dataTable['output_type'] = 'display_data';\n",
       "          await google.colab.output.renderOutput(dataTable, element);\n",
       "          const docLink = document.createElement('div');\n",
       "          docLink.innerHTML = docLinkHtml;\n",
       "          element.appendChild(docLink);\n",
       "        }\n",
       "      </script>\n",
       "    </div>\n",
       "  </div>\n",
       "  "
      ],
      "text/plain": [
       "         Sine  RNN_Predictions  LSTM Predictions\n",
       "42.600 -0.982            0.201            -0.974\n",
       "42.700 -0.959            0.440            -0.950\n",
       "42.800 -0.925            0.519            -0.917\n",
       "42.900 -0.883            0.532            -0.874\n",
       "43.000 -0.832            0.533            -0.824\n",
       "...       ...              ...               ...\n",
       "49.600 -0.617            0.533            -0.568\n",
       "49.700 -0.536            0.533            -0.491\n",
       "49.800 -0.449            0.533            -0.409\n",
       "49.900 -0.357            0.533            -0.322\n",
       "50.000 -0.262            0.533            -0.233\n",
       "\n",
       "[75 rows x 3 columns]"
      ]
     },
     "execution_count": 76,
     "metadata": {},
     "output_type": "execute_result"
    }
   ],
   "source": [
    "predictions = scaler.inverse_transform(predictions_scaled)   \n",
    "test['LSTM Predictions'] = predictions\n",
    "test"
   ]
  },
  {
   "cell_type": "markdown",
   "metadata": {
    "id": "tq06N9lZd8Kh"
   },
   "source": [
    "LSTM de RNN'e benzer sonuclar verdi. LSTM' in avantajlarini burada göremedik çünkü datamiz basic bir data. Daha karmasik sequence' lerde LSTM daha yüksek skorlar verir :"
   ]
  },
  {
   "cell_type": "code",
   "execution_count": 77,
   "metadata": {
    "colab": {
     "base_uri": "https://localhost:8080/",
     "height": 265
    },
    "id": "i0f1etjJd8Kh",
    "outputId": "e9cd61d7-eb4b-44c9-b739-7b3d45c620d6"
   },
   "outputs": [
    {
     "data": {
      "image/png": "[encoded data removed]",
      "text/plain": [
       "<Figure size 432x288 with 1 Axes>"
      ]
     },
     "metadata": {
      "needs_background": "light"
     },
     "output_type": "display_data"
    }
   ],
   "source": [
    "test.plot();"
   ]
  },
  {
   "cell_type": "markdown",
   "metadata": {
    "id": "3Xen8-Ujd8Kh"
   },
   "source": [
    "## Retrain and Forecasting"
   ]
  },
  {
   "cell_type": "markdown",
   "metadata": {
    "id": "m-Oq_cQod8Kh"
   },
   "source": [
    "Model performansimiza baktiktan sonra tüm data ile modeli olusturup forecast yapacagiz. Tüm dataya scale islemi uyguladik :"
   ]
  },
  {
   "cell_type": "code",
   "execution_count": 78,
   "metadata": {
    "id": "x-rGKK9dd8Kh"
   },
   "outputs": [],
   "source": [
    "full_scaler = MinMaxScaler()\n",
    "scaled_full_data = full_scaler.fit_transform(df)"
   ]
  },
  {
   "cell_type": "markdown",
   "metadata": {
    "id": "0kKKigmdd8Kh"
   },
   "source": [
    "TimeseriesGenerator icindeki data ve target kisimlarina tüm datayi verdik. length ve batch_size degerlerini egitimdeki ile ayni verdik :"
   ]
  },
  {
   "cell_type": "code",
   "execution_count": 79,
   "metadata": {
    "id": "iX3Ot1Wkd8Kh"
   },
   "outputs": [],
   "source": [
    "length = 64 \n",
    "generator = TimeseriesGenerator(scaled_full_data, scaled_full_data, length = length, batch_size = 1)"
   ]
  },
  {
   "cell_type": "markdown",
   "metadata": {
    "id": "xvhw5veHd8Kh"
   },
   "source": [
    "En son olusturdugumuz LSTM modeli ile ayni degerlerle modelimizi olusturduk. Sadece epoch sayisini 6' ya düşürdük cünkü yukarida model 5 epoch' da egitimini tamamlamisti. Validation datasi olmadigi icin EarlyStop koyamiyoruz. Bu yüzden 6 epoch vererek egitimi tamamladik :"
   ]
  },
  {
   "cell_type": "code",
   "execution_count": 80,
   "metadata": {
    "colab": {
     "base_uri": "https://localhost:8080/"
    },
    "id": "CM5x7yqgd8Kh",
    "outputId": "71a9324d-8178-4877-c6d7-17a04706c448"
   },
   "outputs": [
    {
     "name": "stdout",
     "output_type": "stream",
     "text": [
      "Epoch 1/6\n",
      "437/437 [==============================] - 12s 22ms/step - loss: 0.0084\n",
      "Epoch 2/6\n",
      "437/437 [==============================] - 10s 22ms/step - loss: 1.8938e-04\n",
      "Epoch 3/6\n",
      "437/437 [==============================] - 11s 26ms/step - loss: 6.0667e-04\n",
      "Epoch 4/6\n",
      "437/437 [==============================] - 10s 22ms/step - loss: 2.2042e-05\n",
      "Epoch 5/6\n",
      "437/437 [==============================] - 10s 22ms/step - loss: 2.7367e-05\n",
      "Epoch 6/6\n",
      "437/437 [==============================] - 10s 22ms/step - loss: 0.0026\n"
     ]
    },
    {
     "data": {
      "text/plain": [
       "<keras.callbacks.History at 0x7f4a37924810>"
      ]
     },
     "execution_count": 80,
     "metadata": {},
     "output_type": "execute_result"
    }
   ],
   "source": [
    "model = Sequential()\n",
    "model.add(LSTM(100, input_shape = (length, n_features)))\n",
    "model.add(Dense(1))\n",
    "model.compile(optimizer = 'adam', loss = 'mse')\n",
    "model.fit_generator(generator, epochs = 6)"
   ]
  },
  {
   "cell_type": "markdown",
   "metadata": {
    "id": "C4AOACy3d8Kh"
   },
   "source": [
    "Yapacagimiz forecast' in uzunlugu, length kadar yani 64 uzunlugunda olacak.  Forecast sonuclarini herhangi bir seyle kiyaslayamayacagiz. Sadece tahminleri orjinal df' in devamina ekleyerek görsellestirecegiz."
   ]
  },
  {
   "cell_type": "code",
   "execution_count": 81,
   "metadata": {
    "id": "wJWvfi9cd8Kh"
   },
   "outputs": [],
   "source": [
    "forecast = []\n",
    "\n",
    "first_eval_batch = scaled_full_data[-length:]\n",
    "current_batch = first_eval_batch.reshape((1, length, n_features))\n",
    "\n",
    "for i in range(length):\n",
    "    \n",
    "    # get prediction 1 time stamp ahead \n",
    "    current_pred = model.predict(current_batch)\n",
    "    \n",
    "    # store prediction\n",
    "    forecast.append(current_pred[0]) \n",
    "    \n",
    "    # update batch to now include prediction and drop first value\n",
    "    current_batch = np.append(current_batch[:, 1:, :], [current_pred], axis = 1)"
   ]
  },
  {
   "cell_type": "code",
   "execution_count": 82,
   "metadata": {
    "id": "l9w9Irerd8Kh"
   },
   "outputs": [],
   "source": [
    "forecast = scaler.inverse_transform(forecast)"
   ]
  },
  {
   "cell_type": "code",
   "execution_count": 83,
   "metadata": {
    "colab": {
     "base_uri": "https://localhost:8080/"
    },
    "id": "UJwgF7fbd8Kh",
    "outputId": "8e9da2fb-7bd4-46bd-e96d-8457c1f4c0a1",
    "scrolled": true
   },
   "outputs": [
    {
     "data": {
      "text/plain": [
       "array([[-0.16459877],\n",
       "       [-0.06502197],\n",
       "       [ 0.03505879],\n",
       "       [ 0.13459   ],\n",
       "       [ 0.23249426],\n",
       "       [ 0.32769141],\n",
       "       [ 0.41911752],\n",
       "       [ 0.50574395],\n",
       "       [ 0.58659665],\n",
       "       [ 0.66077475],\n",
       "       [ 0.72746502],\n",
       "       [ 0.78596066],\n",
       "       [ 0.83566589],\n",
       "       [ 0.87610613],\n",
       "       [ 0.90693006],\n",
       "       [ 0.92791001],\n",
       "       [ 0.93893369],\n",
       "       [ 0.94000263],\n",
       "       [ 0.93121769],\n",
       "       [ 0.91277425],\n",
       "       [ 0.8849496 ],\n",
       "       [ 0.84809169],\n",
       "       [ 0.80261836],\n",
       "       [ 0.74900143],\n",
       "       [ 0.68777126],\n",
       "       [ 0.61950602],\n",
       "       [ 0.54483773],\n",
       "       [ 0.46444602],\n",
       "       [ 0.37906305],\n",
       "       [ 0.28947131],\n",
       "       [ 0.19650383],\n",
       "       [ 0.10104347],\n",
       "       [ 0.00401563],\n",
       "       [-0.09361319],\n",
       "       [-0.19084928],\n",
       "       [-0.28668044],\n",
       "       [-0.38009215],\n",
       "       [-0.47008062],\n",
       "       [-0.55567139],\n",
       "       [-0.63593448],\n",
       "       [-0.70999987],\n",
       "       [-0.77707119],\n",
       "       [-0.83643691],\n",
       "       [-0.88747906],\n",
       "       [-0.92967958],\n",
       "       [-0.96262326],\n",
       "       [-0.98599935],\n",
       "       [-0.99960054],\n",
       "       [-1.00332081],\n",
       "       [-0.99715213],\n",
       "       [-0.9811808 ],\n",
       "       [-0.95558323],\n",
       "       [-0.92062212],\n",
       "       [-0.87664274],\n",
       "       [-0.82406967],\n",
       "       [-0.7634039 ],\n",
       "       [-0.69522048],\n",
       "       [-0.62016584],\n",
       "       [-0.53895585],\n",
       "       [-0.45237347],\n",
       "       [-0.36126469],\n",
       "       [-0.26653543],\n",
       "       [-0.16914514],\n",
       "       [-0.07010066]])"
      ]
     },
     "execution_count": 83,
     "metadata": {},
     "output_type": "execute_result"
    }
   ],
   "source": [
    "forecast"
   ]
  },
  {
   "cell_type": "code",
   "execution_count": 84,
   "metadata": {
    "colab": {
     "base_uri": "https://localhost:8080/",
     "height": 419
    },
    "id": "BNffuvMLd8Kh",
    "outputId": "0ad50a3f-ae81-4b7c-832b-7663693f041d"
   },
   "outputs": [
    {
     "data": {
      "text/html": [
       "\n",
       "  <div id=\"df-aa26c67b-4625-4563-848c-3f6b53afba6e\">\n",
       "    <div class=\"colab-df-container\">\n",
       "      <div>\n",
       "<style scoped>\n",
       "    .dataframe tbody tr th:only-of-type {\n",
       "        vertical-align: middle;\n",
       "    }\n",
       "\n",
       "    .dataframe tbody tr th {\n",
       "        vertical-align: top;\n",
       "    }\n",
       "\n",
       "    .dataframe thead th {\n",
       "        text-align: right;\n",
       "    }\n",
       "</style>\n",
       "<table border=\"1\" class=\"dataframe\">\n",
       "  <thead>\n",
       "    <tr style=\"text-align: right;\">\n",
       "      <th></th>\n",
       "      <th>Sine</th>\n",
       "    </tr>\n",
       "  </thead>\n",
       "  <tbody>\n",
       "    <tr>\n",
       "      <th>0.000</th>\n",
       "      <td>0.000</td>\n",
       "    </tr>\n",
       "    <tr>\n",
       "      <th>0.100</th>\n",
       "      <td>0.100</td>\n",
       "    </tr>\n",
       "    <tr>\n",
       "      <th>0.200</th>\n",
       "      <td>0.199</td>\n",
       "    </tr>\n",
       "    <tr>\n",
       "      <th>0.300</th>\n",
       "      <td>0.296</td>\n",
       "    </tr>\n",
       "    <tr>\n",
       "      <th>0.400</th>\n",
       "      <td>0.389</td>\n",
       "    </tr>\n",
       "    <tr>\n",
       "      <th>...</th>\n",
       "      <td>...</td>\n",
       "    </tr>\n",
       "    <tr>\n",
       "      <th>49.600</th>\n",
       "      <td>-0.617</td>\n",
       "    </tr>\n",
       "    <tr>\n",
       "      <th>49.700</th>\n",
       "      <td>-0.536</td>\n",
       "    </tr>\n",
       "    <tr>\n",
       "      <th>49.800</th>\n",
       "      <td>-0.449</td>\n",
       "    </tr>\n",
       "    <tr>\n",
       "      <th>49.900</th>\n",
       "      <td>-0.357</td>\n",
       "    </tr>\n",
       "    <tr>\n",
       "      <th>50.000</th>\n",
       "      <td>-0.262</td>\n",
       "    </tr>\n",
       "  </tbody>\n",
       "</table>\n",
       "<p>501 rows × 1 columns</p>\n",
       "</div>\n",
       "      <button class=\"colab-df-convert\" onclick=\"convertToInteractive('df-aa26c67b-4625-4563-848c-3f6b53afba6e')\"\n",
       "              title=\"Convert this dataframe to an interactive table.\"\n",
       "              style=\"display:none;\">\n",
       "        \n",
       "  <svg xmlns=\"http://www.w3.org/2000/svg\" height=\"24px\"viewBox=\"0 0 24 24\"\n",
       "       width=\"24px\">\n",
       "    <path d=\"M0 0h24v24H0V0z\" fill=\"none\"/>\n",
       "    <path d=\"M18.56 5.44l.94 2.06.94-2.06 2.06-.94-2.06-.94-.94-2.06-.94 2.06-2.06.94zm-11 1L8.5 8.5l.94-2.06 2.06-.94-2.06-.94L8.5 2.5l-.94 2.06-2.06.94zm10 10l.94 2.06.94-2.06 2.06-.94-2.06-.94-.94-2.06-.94 2.06-2.06.94z\"/><path d=\"M17.41 7.96l-1.37-1.37c-.4-.4-.92-.59-1.43-.59-.52 0-1.04.2-1.43.59L10.3 9.45l-7.72 7.72c-.78.78-.78 2.05 0 2.83L4 21.41c.39.39.9.59 1.41.59.51 0 1.02-.2 1.41-.59l7.78-7.78 2.81-2.81c.8-.78.8-2.07 0-2.86zM5.41 20L4 18.59l7.72-7.72 1.47 1.35L5.41 20z\"/>\n",
       "  </svg>\n",
       "      </button>\n",
       "      \n",
       "  <style>\n",
       "    .colab-df-container {\n",
       "      display:flex;\n",
       "      flex-wrap:wrap;\n",
       "      gap: 12px;\n",
       "    }\n",
       "\n",
       "    .colab-df-convert {\n",
       "      background-color: #E8F0FE;\n",
       "      border: none;\n",
       "      border-radius: 50%;\n",
       "      cursor: pointer;\n",
       "      display: none;\n",
       "      fill: #1967D2;\n",
       "      height: 32px;\n",
       "      padding: 0 0 0 0;\n",
       "      width: 32px;\n",
       "    }\n",
       "\n",
       "    .colab-df-convert:hover {\n",
       "      background-color: #E2EBFA;\n",
       "      box-shadow: 0px 1px 2px rgba(60, 64, 67, 0.3), 0px 1px 3px 1px rgba(60, 64, 67, 0.15);\n",
       "      fill: #174EA6;\n",
       "    }\n",
       "\n",
       "    [theme=dark] .colab-df-convert {\n",
       "      background-color: #3B4455;\n",
       "      fill: #D2E3FC;\n",
       "    }\n",
       "\n",
       "    [theme=dark] .colab-df-convert:hover {\n",
       "      background-color: #434B5C;\n",
       "      box-shadow: 0px 1px 3px 1px rgba(0, 0, 0, 0.15);\n",
       "      filter: drop-shadow(0px 1px 2px rgba(0, 0, 0, 0.3));\n",
       "      fill: #FFFFFF;\n",
       "    }\n",
       "  </style>\n",
       "\n",
       "      <script>\n",
       "        const buttonEl =\n",
       "          document.querySelector('#df-aa26c67b-4625-4563-848c-3f6b53afba6e button.colab-df-convert');\n",
       "        buttonEl.style.display =\n",
       "          google.colab.kernel.accessAllowed ? 'block' : 'none';\n",
       "\n",
       "        async function convertToInteractive(key) {\n",
       "          const element = document.querySelector('#df-aa26c67b-4625-4563-848c-3f6b53afba6e');\n",
       "          const dataTable =\n",
       "            await google.colab.kernel.invokeFunction('convertToInteractive',\n",
       "                                                     [key], {});\n",
       "          if (!dataTable) return;\n",
       "\n",
       "          const docLinkHtml = 'Like what you see? Visit the ' +\n",
       "            '<a target=\"_blank\" href=https://colab.research.google.com/notebooks/data_table.ipynb>data table notebook</a>'\n",
       "            + ' to learn more about interactive tables.';\n",
       "          element.innerHTML = '';\n",
       "          dataTable['output_type'] = 'display_data';\n",
       "          await google.colab.output.renderOutput(dataTable, element);\n",
       "          const docLink = document.createElement('div');\n",
       "          docLink.innerHTML = docLinkHtml;\n",
       "          element.appendChild(docLink);\n",
       "        }\n",
       "      </script>\n",
       "    </div>\n",
       "  </div>\n",
       "  "
      ],
      "text/plain": [
       "         Sine\n",
       "0.000   0.000\n",
       "0.100   0.100\n",
       "0.200   0.199\n",
       "0.300   0.296\n",
       "0.400   0.389\n",
       "...       ...\n",
       "49.600 -0.617\n",
       "49.700 -0.536\n",
       "49.800 -0.449\n",
       "49.900 -0.357\n",
       "50.000 -0.262\n",
       "\n",
       "[501 rows x 1 columns]"
      ]
     },
     "execution_count": 84,
     "metadata": {},
     "output_type": "execute_result"
    }
   ],
   "source": [
    "df"
   ]
  },
  {
   "cell_type": "code",
   "execution_count": 85,
   "metadata": {
    "colab": {
     "base_uri": "https://localhost:8080/",
     "height": 282
    },
    "id": "fmrLOh_Pd8Kh",
    "outputId": "1a144841-a7f9-40e2-954c-7858c1d9b1af"
   },
   "outputs": [
    {
     "data": {
      "text/plain": [
       "<matplotlib.axes._subplots.AxesSubplot at 0x7f4a3970b090>"
      ]
     },
     "execution_count": 85,
     "metadata": {},
     "output_type": "execute_result"
    },
    {
     "data": {
      "image/png": "[encoded data removed]",
      "text/plain": [
       "<Figure size 432x288 with 1 Axes>"
      ]
     },
     "metadata": {
      "needs_background": "light"
     },
     "output_type": "display_data"
    }
   ],
   "source": [
    "df.plot()"
   ]
  },
  {
   "cell_type": "markdown",
   "metadata": {
    "id": "JbUpoTdcd8Ki"
   },
   "source": [
    "Tahminleri ve orjinal df' i görsellestirmek icin forecast' lere index olusturmamiz gerekir. Bu index' lerin de df' e uygun olmasi gerekir. df' teki index' ler 0.1 steplerle gitmis ve en son 50.00' da bitmis. Forecast' ler de bunun arkasina gelecek sekilde 50.1, 50.2 seklinde gitmeli."
   ]
  },
  {
   "cell_type": "code",
   "execution_count": 86,
   "metadata": {
    "colab": {
     "base_uri": "https://localhost:8080/"
    },
    "id": "hYpL5QOTd8Ki",
    "outputId": "307b48c5-493c-49ee-92f3-748dd61d8196"
   },
   "outputs": [
    {
     "data": {
      "text/plain": [
       "64"
      ]
     },
     "execution_count": 86,
     "metadata": {},
     "output_type": "execute_result"
    }
   ],
   "source": [
    "forecast_len = len(forecast)\n",
    "forecast_len"
   ]
  },
  {
   "cell_type": "code",
   "execution_count": 87,
   "metadata": {
    "id": "DvqHwK9td8Ki"
   },
   "outputs": [],
   "source": [
    "step = 0.1"
   ]
  },
  {
   "cell_type": "code",
   "execution_count": 88,
   "metadata": {
    "colab": {
     "base_uri": "https://localhost:8080/"
    },
    "id": "5rpMZSZnd8Ki",
    "outputId": "9d9da9f7-8db6-462c-b7cb-d97e24507463"
   },
   "outputs": [
    {
     "data": {
      "text/plain": [
       "6.4"
      ]
     },
     "execution_count": 88,
     "metadata": {},
     "output_type": "execute_result"
    }
   ],
   "source": [
    "forecast_len * step"
   ]
  },
  {
   "cell_type": "markdown",
   "metadata": {
    "id": "fBuActQ0d8Ki"
   },
   "source": [
    "forecast' indexi 50.1' den baslayacak üzerine toplamda 6.4 eklenecek ve 56.5' e kadar gelecek. step=0.1 olacak. Bu sekilde 64 tane index olusturduk ve bir degiskene atadik :"
   ]
  },
  {
   "cell_type": "code",
   "execution_count": 89,
   "metadata": {
    "id": "rzyLwp4Md8Ki"
   },
   "outputs": [],
   "source": [
    "forecast_index = np.arange(50.1, 56.5, step = step)"
   ]
  },
  {
   "cell_type": "code",
   "execution_count": 90,
   "metadata": {
    "colab": {
     "base_uri": "https://localhost:8080/"
    },
    "id": "P5xkwSJ2d8Ki",
    "outputId": "582271e8-e6f9-4801-e686-ae16f397727f"
   },
   "outputs": [
    {
     "data": {
      "text/plain": [
       "64"
      ]
     },
     "execution_count": 90,
     "metadata": {},
     "output_type": "execute_result"
    }
   ],
   "source": [
    "len(forecast_index)"
   ]
  },
  {
   "cell_type": "markdown",
   "metadata": {
    "id": "FBrpcsb8d8Ki"
   },
   "source": [
    "Iki plot' u beraber cizdirerek bir görsel elde ettik. df indexi ve df sütunu ile bir plot islemi yaptik. forecast indexi ile de forecast' i vererek diger plot islemini yaptik. Forecast tahminlerini datanin sonunda gormus olduk. (Her calistirmada farkli sonuclar alinabilir.)"
   ]
  },
  {
   "cell_type": "code",
   "execution_count": 91,
   "metadata": {
    "colab": {
     "base_uri": "https://localhost:8080/",
     "height": 265
    },
    "id": "escWHn8Nd8Ki",
    "outputId": "6226950c-cfcc-407d-fc97-7b6ce29cb452"
   },
   "outputs": [
    {
     "data": {
      "image/png": "[encoded data removed]",
      "text/plain": [
       "<Figure size 432x288 with 1 Axes>"
      ]
     },
     "metadata": {
      "needs_background": "light"
     },
     "output_type": "display_data"
    }
   ],
   "source": [
    "plt.plot(df.index, df['Sine'])\n",
    "plt.plot(forecast_index, forecast);"
   ]
  },
  {
   "cell_type": "markdown",
   "metadata": {
    "id": "yzUCgn9_d8Ki"
   },
   "source": [
    "___\n",
    "\n",
    "<p style=\"text-align: center;\"><img src=\"https://docs.google.com/uc?id=1lY0Uj5R04yMY3-ZppPWxqCr5pvBLYPnV\" class=\"img-fluid\" alt=\"CLRSWY\"></p>\n",
    "\n",
    "___"
   ]
  }
 ],
 "metadata": {
  "colab": {
   "collapsed_sections": [
    "ZGtzHA3-d8KS",
    "dh9gIlyKd8KS",
    "OhhhkEXCd8KV",
    "HrObhF33d8KW"
   ],
   "name": "DL-S9 (RNN Syntax Basics-Sine Wave).ipynb",
   "provenance": []
  },
  "kernelspec": {
   "display_name": "Python 3 (ipykernel)",
   "language": "python",
   "name": "python3"
  },
  "language_info": {
   "codemirror_mode": {
    "name": "ipython",
    "version": 3
   },
   "file_extension": ".py",
   "mimetype": "text/x-python",
   "name": "python",
   "nbconvert_exporter": "python",
   "pygments_lexer": "ipython3",
   "version": "3.9.7"
  }
 },
 "nbformat": 4,
 "nbformat_minor": 4
}
